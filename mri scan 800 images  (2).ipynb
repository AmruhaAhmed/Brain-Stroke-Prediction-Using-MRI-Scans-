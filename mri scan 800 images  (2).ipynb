{
 "cells": [
  {
   "cell_type": "code",
   "execution_count": 1,
   "id": "a6cce076",
   "metadata": {},
   "outputs": [
    {
     "name": "stdout",
     "output_type": "stream",
     "text": [
      "Requirement already satisfied: tensorflow in c:\\users\\dell\\anaconda3\\lib\\site-packages (2.17.0)\n",
      "Requirement already satisfied: tensorflow-intel==2.17.0 in c:\\users\\dell\\anaconda3\\lib\\site-packages (from tensorflow) (2.17.0)\n",
      "Requirement already satisfied: absl-py>=1.0.0 in c:\\users\\dell\\anaconda3\\lib\\site-packages (from tensorflow-intel==2.17.0->tensorflow) (2.1.0)\n",
      "Requirement already satisfied: astunparse>=1.6.0 in c:\\users\\dell\\anaconda3\\lib\\site-packages (from tensorflow-intel==2.17.0->tensorflow) (1.6.3)\n",
      "Requirement already satisfied: flatbuffers>=24.3.25 in c:\\users\\dell\\anaconda3\\lib\\site-packages (from tensorflow-intel==2.17.0->tensorflow) (24.3.25)\n",
      "Requirement already satisfied: gast!=0.5.0,!=0.5.1,!=0.5.2,>=0.2.1 in c:\\users\\dell\\anaconda3\\lib\\site-packages (from tensorflow-intel==2.17.0->tensorflow) (0.6.0)\n",
      "Requirement already satisfied: google-pasta>=0.1.1 in c:\\users\\dell\\anaconda3\\lib\\site-packages (from tensorflow-intel==2.17.0->tensorflow) (0.2.0)\n",
      "Requirement already satisfied: h5py>=3.10.0 in c:\\users\\dell\\anaconda3\\lib\\site-packages (from tensorflow-intel==2.17.0->tensorflow) (3.11.0)\n",
      "Requirement already satisfied: libclang>=13.0.0 in c:\\users\\dell\\anaconda3\\lib\\site-packages (from tensorflow-intel==2.17.0->tensorflow) (18.1.1)\n",
      "Requirement already satisfied: ml-dtypes<0.5.0,>=0.3.1 in c:\\users\\dell\\anaconda3\\lib\\site-packages (from tensorflow-intel==2.17.0->tensorflow) (0.4.0)\n",
      "Requirement already satisfied: opt-einsum>=2.3.2 in c:\\users\\dell\\anaconda3\\lib\\site-packages (from tensorflow-intel==2.17.0->tensorflow) (3.3.0)\n",
      "Requirement already satisfied: packaging in c:\\users\\dell\\anaconda3\\lib\\site-packages (from tensorflow-intel==2.17.0->tensorflow) (23.1)\n",
      "Requirement already satisfied: protobuf!=4.21.0,!=4.21.1,!=4.21.2,!=4.21.3,!=4.21.4,!=4.21.5,<5.0.0dev,>=3.20.3 in c:\\users\\dell\\anaconda3\\lib\\site-packages (from tensorflow-intel==2.17.0->tensorflow) (3.20.3)\n",
      "Requirement already satisfied: requests<3,>=2.21.0 in c:\\users\\dell\\anaconda3\\lib\\site-packages (from tensorflow-intel==2.17.0->tensorflow) (2.31.0)\n",
      "Requirement already satisfied: setuptools in c:\\users\\dell\\anaconda3\\lib\\site-packages (from tensorflow-intel==2.17.0->tensorflow) (68.2.2)\n",
      "Requirement already satisfied: six>=1.12.0 in c:\\users\\dell\\anaconda3\\lib\\site-packages (from tensorflow-intel==2.17.0->tensorflow) (1.16.0)\n",
      "Requirement already satisfied: termcolor>=1.1.0 in c:\\users\\dell\\anaconda3\\lib\\site-packages (from tensorflow-intel==2.17.0->tensorflow) (2.4.0)\n",
      "Requirement already satisfied: typing-extensions>=3.6.6 in c:\\users\\dell\\anaconda3\\lib\\site-packages (from tensorflow-intel==2.17.0->tensorflow) (4.9.0)\n",
      "Requirement already satisfied: wrapt>=1.11.0 in c:\\users\\dell\\anaconda3\\lib\\site-packages (from tensorflow-intel==2.17.0->tensorflow) (1.14.1)\n",
      "Requirement already satisfied: grpcio<2.0,>=1.24.3 in c:\\users\\dell\\anaconda3\\lib\\site-packages (from tensorflow-intel==2.17.0->tensorflow) (1.65.1)\n",
      "Requirement already satisfied: tensorboard<2.18,>=2.17 in c:\\users\\dell\\anaconda3\\lib\\site-packages (from tensorflow-intel==2.17.0->tensorflow) (2.17.0)\n",
      "Requirement already satisfied: keras>=3.2.0 in c:\\users\\dell\\anaconda3\\lib\\site-packages (from tensorflow-intel==2.17.0->tensorflow) (3.4.1)\n",
      "Requirement already satisfied: tensorflow-io-gcs-filesystem>=0.23.1 in c:\\users\\dell\\anaconda3\\lib\\site-packages (from tensorflow-intel==2.17.0->tensorflow) (0.31.0)\n",
      "Requirement already satisfied: numpy<2.0.0,>=1.23.5 in c:\\users\\dell\\anaconda3\\lib\\site-packages (from tensorflow-intel==2.17.0->tensorflow) (1.26.4)\n",
      "Requirement already satisfied: wheel<1.0,>=0.23.0 in c:\\users\\dell\\anaconda3\\lib\\site-packages (from astunparse>=1.6.0->tensorflow-intel==2.17.0->tensorflow) (0.41.2)\n",
      "Requirement already satisfied: rich in c:\\users\\dell\\anaconda3\\lib\\site-packages (from keras>=3.2.0->tensorflow-intel==2.17.0->tensorflow) (13.3.5)\n",
      "Requirement already satisfied: namex in c:\\users\\dell\\anaconda3\\lib\\site-packages (from keras>=3.2.0->tensorflow-intel==2.17.0->tensorflow) (0.0.8)\n",
      "Requirement already satisfied: optree in c:\\users\\dell\\anaconda3\\lib\\site-packages (from keras>=3.2.0->tensorflow-intel==2.17.0->tensorflow) (0.12.1)\n",
      "Requirement already satisfied: charset-normalizer<4,>=2 in c:\\users\\dell\\anaconda3\\lib\\site-packages (from requests<3,>=2.21.0->tensorflow-intel==2.17.0->tensorflow) (2.0.4)\n",
      "Requirement already satisfied: idna<4,>=2.5 in c:\\users\\dell\\anaconda3\\lib\\site-packages (from requests<3,>=2.21.0->tensorflow-intel==2.17.0->tensorflow) (3.4)\n",
      "Requirement already satisfied: urllib3<3,>=1.21.1 in c:\\users\\dell\\anaconda3\\lib\\site-packages (from requests<3,>=2.21.0->tensorflow-intel==2.17.0->tensorflow) (2.0.7)\n",
      "Requirement already satisfied: certifi>=2017.4.17 in c:\\users\\dell\\anaconda3\\lib\\site-packages (from requests<3,>=2.21.0->tensorflow-intel==2.17.0->tensorflow) (2024.2.2)\n",
      "Requirement already satisfied: markdown>=2.6.8 in c:\\users\\dell\\anaconda3\\lib\\site-packages (from tensorboard<2.18,>=2.17->tensorflow-intel==2.17.0->tensorflow) (3.4.1)\n",
      "Requirement already satisfied: tensorboard-data-server<0.8.0,>=0.7.0 in c:\\users\\dell\\anaconda3\\lib\\site-packages (from tensorboard<2.18,>=2.17->tensorflow-intel==2.17.0->tensorflow) (0.7.2)\n",
      "Requirement already satisfied: werkzeug>=1.0.1 in c:\\users\\dell\\anaconda3\\lib\\site-packages (from tensorboard<2.18,>=2.17->tensorflow-intel==2.17.0->tensorflow) (2.2.3)\n",
      "Requirement already satisfied: MarkupSafe>=2.1.1 in c:\\users\\dell\\anaconda3\\lib\\site-packages (from werkzeug>=1.0.1->tensorboard<2.18,>=2.17->tensorflow-intel==2.17.0->tensorflow) (2.1.3)\n",
      "Requirement already satisfied: markdown-it-py<3.0.0,>=2.2.0 in c:\\users\\dell\\anaconda3\\lib\\site-packages (from rich->keras>=3.2.0->tensorflow-intel==2.17.0->tensorflow) (2.2.0)\n",
      "Requirement already satisfied: pygments<3.0.0,>=2.13.0 in c:\\users\\dell\\anaconda3\\lib\\site-packages (from rich->keras>=3.2.0->tensorflow-intel==2.17.0->tensorflow) (2.15.1)\n",
      "Requirement already satisfied: mdurl~=0.1 in c:\\users\\dell\\anaconda3\\lib\\site-packages (from markdown-it-py<3.0.0,>=2.2.0->rich->keras>=3.2.0->tensorflow-intel==2.17.0->tensorflow) (0.1.0)\n",
      "Requirement already satisfied: matplotlib in c:\\users\\dell\\anaconda3\\lib\\site-packages (3.8.0)\n",
      "Requirement already satisfied: contourpy>=1.0.1 in c:\\users\\dell\\anaconda3\\lib\\site-packages (from matplotlib) (1.2.0)\n",
      "Requirement already satisfied: cycler>=0.10 in c:\\users\\dell\\anaconda3\\lib\\site-packages (from matplotlib) (0.11.0)\n",
      "Requirement already satisfied: fonttools>=4.22.0 in c:\\users\\dell\\anaconda3\\lib\\site-packages (from matplotlib) (4.25.0)\n",
      "Requirement already satisfied: kiwisolver>=1.0.1 in c:\\users\\dell\\anaconda3\\lib\\site-packages (from matplotlib) (1.4.4)\n",
      "Requirement already satisfied: numpy<2,>=1.21 in c:\\users\\dell\\anaconda3\\lib\\site-packages (from matplotlib) (1.26.4)\n",
      "Requirement already satisfied: packaging>=20.0 in c:\\users\\dell\\anaconda3\\lib\\site-packages (from matplotlib) (23.1)\n",
      "Requirement already satisfied: pillow>=6.2.0 in c:\\users\\dell\\anaconda3\\lib\\site-packages (from matplotlib) (10.2.0)\n",
      "Requirement already satisfied: pyparsing>=2.3.1 in c:\\users\\dell\\anaconda3\\lib\\site-packages (from matplotlib) (3.0.9)\n",
      "Requirement already satisfied: python-dateutil>=2.7 in c:\\users\\dell\\anaconda3\\lib\\site-packages (from matplotlib) (2.8.2)\n",
      "Requirement already satisfied: six>=1.5 in c:\\users\\dell\\anaconda3\\lib\\site-packages (from python-dateutil>=2.7->matplotlib) (1.16.0)\n"
     ]
    }
   ],
   "source": [
    "!pip install tensorflow\n",
    "!pip install matplotlib\n",
    "import tensorflow as tf\n",
    "from tensorflow.keras import models,layers\n",
    "import matplotlib.pyplot as plt\n",
    "from tensorflow import keras\n",
    "import keras.layers\n",
    "from PIL import Image\n",
    "import warnings\n",
    "warnings.filterwarnings('ignore')\n",
    "from sklearn.metrics import accuracy_score,confusion_matrix,f1_score,recall_score,precision_score\n",
    "import numpy as np"
   ]
  },
  {
   "cell_type": "code",
   "execution_count": 2,
   "id": "7a523fe2",
   "metadata": {},
   "outputs": [
    {
     "name": "stdout",
     "output_type": "stream",
     "text": [
      "['mri']\n"
     ]
    }
   ],
   "source": [
    "import zipfile\n",
    "import os\n",
    "zip_file_path = './mrismall800.zip'\n",
    "extract_dir = './mrismall800'\n",
    "if not os.path.exists(extract_dir):\n",
    "    os.makedirs(extract_dir)\n",
    "with zipfile.ZipFile(zip_file_path, 'r') as zip_ref:\n",
    "    zip_ref.extractall(extract_dir)\n",
    "print(os.listdir(extract_dir))"
   ]
  },
  {
   "cell_type": "code",
   "execution_count": 3,
   "id": "d4fdfae2",
   "metadata": {},
   "outputs": [],
   "source": [
    "IMAGE_SIZE=650\n",
    "BATCH_SIZE=32"
   ]
  },
  {
   "cell_type": "code",
   "execution_count": 4,
   "id": "b90689d3",
   "metadata": {},
   "outputs": [
    {
     "name": "stdout",
     "output_type": "stream",
     "text": [
      "['Normal', 'Stroke']\n"
     ]
    }
   ],
   "source": [
    "import os\n",
    "print(os.listdir('./mrismall800/mri/dataset'))"
   ]
  },
  {
   "cell_type": "code",
   "execution_count": 5,
   "id": "d4acc5d2",
   "metadata": {},
   "outputs": [
    {
     "name": "stdout",
     "output_type": "stream",
     "text": [
      "Found 800 files belonging to 2 classes.\n"
     ]
    }
   ],
   "source": [
    "df=tf.keras.preprocessing.image_dataset_from_directory(\n",
    "    \"mrismall800/mri/dataset\",\n",
    "    shuffle=True,\n",
    "    image_size=(IMAGE_SIZE,IMAGE_SIZE),\n",
    "    batch_size=BATCH_SIZE\n",
    ")"
   ]
  },
  {
   "cell_type": "code",
   "execution_count": 6,
   "id": "5d1ff5aa",
   "metadata": {},
   "outputs": [
    {
     "data": {
      "text/plain": [
       "['Normal', 'Stroke']"
      ]
     },
     "execution_count": 6,
     "metadata": {},
     "output_type": "execute_result"
    }
   ],
   "source": [
    "class_names=df.class_names\n",
    "class_names"
   ]
  },
  {
   "cell_type": "code",
   "execution_count": 7,
   "id": "4876d78e",
   "metadata": {},
   "outputs": [],
   "source": [
    "image_count=0\n",
    "for images, labels in df:\n",
    "    image_count += images.shape[0]"
   ]
  },
  {
   "cell_type": "code",
   "execution_count": 8,
   "id": "66e35aef",
   "metadata": {},
   "outputs": [
    {
     "data": {
      "text/plain": [
       "800"
      ]
     },
     "execution_count": 8,
     "metadata": {},
     "output_type": "execute_result"
    }
   ],
   "source": [
    "image_count"
   ]
  },
  {
   "cell_type": "code",
   "execution_count": 9,
   "id": "fcc16987",
   "metadata": {},
   "outputs": [],
   "source": [
    "def  total_images(dataset):\n",
    "    count = 0\n",
    "    for _ in dataset:\n",
    "        count += 1\n",
    "    return count"
   ]
  },
  {
   "cell_type": "code",
   "execution_count": 10,
   "id": "18387a48",
   "metadata": {},
   "outputs": [],
   "source": [
    "def split(df,train_split=0.75,test_split=0.25,shuffle=True,shuffle_size=5000):\n",
    "  df_shape= total_images(df.unbatch())\n",
    "  df = df.unbatch().batch(1)\n",
    "  if shuffle:\n",
    "    df=df.shuffle(shuffle_size,seed=50)\n",
    "  train_size=int(train_split*df_shape)\n",
    "  test_size=int(test_split*df_shape)\n",
    "  train_df=df.take(train_size)\n",
    "  test_df=df.skip(train_size).take(test_size)\n",
    "  return train_df,test_df\n"
   ]
  },
  {
   "cell_type": "code",
   "execution_count": 11,
   "id": "99fd376c",
   "metadata": {},
   "outputs": [],
   "source": [
    "train_imgs,test_imgs=split(df)"
   ]
  },
  {
   "cell_type": "code",
   "execution_count": 12,
   "id": "2cf0cef5",
   "metadata": {},
   "outputs": [],
   "source": [
    "resize_rescale=tf.keras.Sequential([\n",
    "    layers.Resizing(650,650),\n",
    "    layers.Rescaling(1.0/255)\n",
    "])\n",
    "data_enhance = tf.keras.Sequential([\n",
    "    layers.RandomFlip(\"horizontal_and_vertical\"),\n",
    "    layers.RandomRotation(0.3),\n",
    "    layers.RandomZoom(0.3)\n",
    "])"
   ]
  },
  {
   "cell_type": "code",
   "execution_count": 19,
   "id": "bf677b35",
   "metadata": {},
   "outputs": [],
   "source": [
    "def eleven_layer_cnn_softmax_kernel5():\n",
    "  model = keras.models.Sequential([\n",
    "      resize_rescale,\n",
    "    data_enhance,\n",
    "    keras.layers.Conv2D(filters=32, kernel_size=(5,5), activation='relu', input_shape=(650,650,3)),\n",
    "    keras.layers.MaxPooling2D((2, 2)),\n",
    "    keras.layers.Conv2D(filters=64, kernel_size=(5,5), activation='relu'),\n",
    "    keras.layers.MaxPooling2D((2, 2)),\n",
    "    keras.layers.Conv2D(filters=128, kernel_size=(5,5), activation='relu'),\n",
    "    keras.layers.MaxPooling2D((2, 2)),\n",
    "    keras.layers.Conv2D(filters=256, kernel_size=(5,5), activation='relu'),\n",
    "    keras.layers.MaxPooling2D((2, 2)),\n",
    "    keras.layers.Flatten(),\n",
    "    keras.layers.Dense(128, activation='relu'),\n",
    "    keras.layers.Dense(2, activation='softmax')\n",
    "      ])\n",
    "  model.compile(optimizer='adam',\n",
    "              loss='sparse_categorical_crossentropy',\n",
    "                metrics=['accuracy'])\n",
    "  return model\n"
   ]
  },
  {
   "cell_type": "code",
   "execution_count": 20,
   "id": "86a445a9",
   "metadata": {},
   "outputs": [],
   "source": [
    "train_labels = np.concatenate([y.numpy() for _, y in train_imgs], axis=0)\n",
    "test_labels = np.concatenate([y.numpy() for _, y in test_imgs], axis=0)"
   ]
  },
  {
   "cell_type": "code",
   "execution_count": 21,
   "id": "568db52c",
   "metadata": {},
   "outputs": [
    {
     "name": "stdout",
     "output_type": "stream",
     "text": [
      "Epoch 1/5\n",
      "\u001b[1m600/600\u001b[0m \u001b[32m━━━━━━━━━━━━━━━━━━━━\u001b[0m\u001b[37m\u001b[0m \u001b[1m783s\u001b[0m 1s/step - accuracy: 0.7460 - loss: 7.2398\n",
      "Epoch 2/5\n",
      "\u001b[1m600/600\u001b[0m \u001b[32m━━━━━━━━━━━━━━━━━━━━\u001b[0m\u001b[37m\u001b[0m \u001b[1m736s\u001b[0m 1s/step - accuracy: 0.7286 - loss: 0.6071\n",
      "Epoch 3/5\n",
      "\u001b[1m600/600\u001b[0m \u001b[32m━━━━━━━━━━━━━━━━━━━━\u001b[0m\u001b[37m\u001b[0m \u001b[1m730s\u001b[0m 1s/step - accuracy: 0.7514 - loss: 0.7828\n",
      "Epoch 4/5\n",
      "\u001b[1m600/600\u001b[0m \u001b[32m━━━━━━━━━━━━━━━━━━━━\u001b[0m\u001b[37m\u001b[0m \u001b[1m728s\u001b[0m 1s/step - accuracy: 0.7557 - loss: 0.5669\n",
      "Epoch 5/5\n",
      "\u001b[1m600/600\u001b[0m \u001b[32m━━━━━━━━━━━━━━━━━━━━\u001b[0m\u001b[37m\u001b[0m \u001b[1m711s\u001b[0m 1s/step - accuracy: 0.7526 - loss: 0.5624\n",
      "\u001b[1m200/200\u001b[0m \u001b[32m━━━━━━━━━━━━━━━━━━━━\u001b[0m\u001b[37m\u001b[0m \u001b[1m94s\u001b[0m 459ms/step\n",
      "Model 1\n",
      "0.765\n",
      "0.0\n",
      "0.0\n",
      "0.0\n"
     ]
    }
   ],
   "source": [
    "model1=eleven_layer_cnn_softmax_kernel5()\n",
    "model1.fit(train_imgs,epochs=5)\n",
    "y_pred_probs = model1.predict(test_imgs.map(lambda x, y: x))\n",
    "y_pred = np.argmax(y_pred_probs, axis=1)\n",
    "accuracy = accuracy_score(test_labels, y_pred)\n",
    "f1 = f1_score(test_labels, y_pred)\n",
    "precision = precision_score(test_labels, y_pred)\n",
    "recall = recall_score(test_labels, y_pred)\n",
    "print(\"Model 1\")\n",
    "print(accuracy)\n",
    "print(f1)\n",
    "print(precision)\n",
    "print(recall)"
   ]
  },
  {
   "cell_type": "code",
   "execution_count": 22,
   "id": "c1500770",
   "metadata": {},
   "outputs": [],
   "source": [
    "def nine_layer_cnn_softmax_kernel5():\n",
    "  model = keras.models.Sequential([\n",
    "      resize_rescale,\n",
    "    data_enhance,\n",
    "    keras.layers.Conv2D(filters=64, kernel_size=(5,5), activation='relu', input_shape=(650,650,3)),\n",
    "    keras.layers.MaxPooling2D((2, 2)),\n",
    "    keras.layers.Conv2D(filters=128, kernel_size=(5,5), activation='relu'),\n",
    "    keras.layers.MaxPooling2D((2, 2)),\n",
    "    keras.layers.Conv2D(filters=256, kernel_size=(5,5), activation='relu'),\n",
    "    keras.layers.MaxPooling2D((2, 2)),\n",
    "    keras.layers.Flatten(),\n",
    "    keras.layers.Dense(128, activation='relu'),\n",
    "    keras.layers.Dense(2, activation='softmax')\n",
    "      ])\n",
    "  model.compile(optimizer='adam',\n",
    "              loss='sparse_categorical_crossentropy',\n",
    "                metrics=['accuracy'])\n",
    "  return model"
   ]
  },
  {
   "cell_type": "code",
   "execution_count": 23,
   "id": "6a0a745f",
   "metadata": {},
   "outputs": [
    {
     "name": "stdout",
     "output_type": "stream",
     "text": [
      "Epoch 1/5\n",
      "\u001b[1m600/600\u001b[0m \u001b[32m━━━━━━━━━━━━━━━━━━━━\u001b[0m\u001b[37m\u001b[0m \u001b[1m2242s\u001b[0m 4s/step - accuracy: 0.7541 - loss: 3.0601\n",
      "Epoch 2/5\n",
      "\u001b[1m600/600\u001b[0m \u001b[32m━━━━━━━━━━━━━━━━━━━━\u001b[0m\u001b[37m\u001b[0m \u001b[1m2401s\u001b[0m 4s/step - accuracy: 0.7651 - loss: 0.5639\n",
      "Epoch 3/5\n",
      "\u001b[1m600/600\u001b[0m \u001b[32m━━━━━━━━━━━━━━━━━━━━\u001b[0m\u001b[37m\u001b[0m \u001b[1m2968s\u001b[0m 5s/step - accuracy: 0.7380 - loss: 6.6904\n",
      "Epoch 4/5\n",
      "\u001b[1m600/600\u001b[0m \u001b[32m━━━━━━━━━━━━━━━━━━━━\u001b[0m\u001b[37m\u001b[0m \u001b[1m2385s\u001b[0m 4s/step - accuracy: 0.7499 - loss: 0.5849\n",
      "Epoch 5/5\n",
      "\u001b[1m600/600\u001b[0m \u001b[32m━━━━━━━━━━━━━━━━━━━━\u001b[0m\u001b[37m\u001b[0m \u001b[1m2536s\u001b[0m 4s/step - accuracy: 0.7513 - loss: 0.5685\n",
      "\u001b[1m200/200\u001b[0m \u001b[32m━━━━━━━━━━━━━━━━━━━━\u001b[0m\u001b[37m\u001b[0m \u001b[1m303s\u001b[0m 1s/step\n",
      "Model 2\n",
      "0.765\n",
      "0.0\n",
      "0.0\n",
      "0.0\n"
     ]
    }
   ],
   "source": [
    "model2=nine_layer_cnn_softmax_kernel5()\n",
    "model2.fit(train_imgs,epochs=5)\n",
    "y_pred_probs = model2.predict(test_imgs.map(lambda x, y: x))\n",
    "y_pred = np.argmax(y_pred_probs, axis=1)\n",
    "accuracy = accuracy_score(test_labels, y_pred)\n",
    "f1 = f1_score(test_labels, y_pred)\n",
    "precision = precision_score(test_labels, y_pred)\n",
    "recall = recall_score(test_labels, y_pred)\n",
    "print(\"Model 2\")\n",
    "print(accuracy)\n",
    "print(f1)\n",
    "print(precision)\n",
    "print(recall)"
   ]
  },
  {
   "cell_type": "code",
   "execution_count": 24,
   "id": "45ef672c",
   "metadata": {},
   "outputs": [],
   "source": [
    "def densenet121():\n",
    "    base_model=tf.keras.applications.DenseNet121(input_shape=(650,650,3),\n",
    "                                                include_top=False,\n",
    "                                                weights='imagenet')\n",
    "    base_model.trainable=False\n",
    "    model=tf.keras.models.Sequential([\n",
    "        base_model,\n",
    "        keras.layers.GlobalAveragePooling2D(),\n",
    "        keras.layers.Dense(512,activation=\"relu\"),\n",
    "        keras.layers.Dense(2,activation='softmax')\n",
    "    ])\n",
    "    model.compile(optimizer='adam',loss='sparse_categorical_crossentropy',metrics=['accuracy'])\n",
    "    return model"
   ]
  },
  {
   "cell_type": "code",
   "execution_count": 25,
   "id": "90165f48",
   "metadata": {},
   "outputs": [
    {
     "name": "stdout",
     "output_type": "stream",
     "text": [
      "Epoch 1/5\n",
      "\u001b[1m600/600\u001b[0m \u001b[32m━━━━━━━━━━━━━━━━━━━━\u001b[0m\u001b[37m\u001b[0m \u001b[1m936s\u001b[0m 2s/step - accuracy: 0.6701 - loss: 2.4029\n",
      "Epoch 2/5\n",
      "\u001b[1m600/600\u001b[0m \u001b[32m━━━━━━━━━━━━━━━━━━━━\u001b[0m\u001b[37m\u001b[0m \u001b[1m932s\u001b[0m 2s/step - accuracy: 0.7629 - loss: 0.4871\n",
      "Epoch 3/5\n",
      "\u001b[1m600/600\u001b[0m \u001b[32m━━━━━━━━━━━━━━━━━━━━\u001b[0m\u001b[37m\u001b[0m \u001b[1m944s\u001b[0m 2s/step - accuracy: 0.7996 - loss: 0.4561\n",
      "Epoch 4/5\n",
      "\u001b[1m600/600\u001b[0m \u001b[32m━━━━━━━━━━━━━━━━━━━━\u001b[0m\u001b[37m\u001b[0m \u001b[1m895s\u001b[0m 1s/step - accuracy: 0.7935 - loss: 0.4647\n",
      "Epoch 5/5\n",
      "\u001b[1m600/600\u001b[0m \u001b[32m━━━━━━━━━━━━━━━━━━━━\u001b[0m\u001b[37m\u001b[0m \u001b[1m889s\u001b[0m 1s/step - accuracy: 0.7869 - loss: 0.4322\n",
      "\u001b[1m200/200\u001b[0m \u001b[32m━━━━━━━━━━━━━━━━━━━━\u001b[0m\u001b[37m\u001b[0m \u001b[1m292s\u001b[0m 1s/step\n",
      "Model\n",
      "0.755\n",
      "0.07547169811320754\n",
      "0.3333333333333333\n",
      "0.0425531914893617\n"
     ]
    }
   ],
   "source": [
    "model3=densenet121()\n",
    "model3.fit(train_imgs,epochs=5)\n",
    "y_pred_probs = model3.predict(test_imgs.map(lambda x, y: x))\n",
    "y_pred = np.argmax(y_pred_probs, axis=1)\n",
    "accuracy = accuracy_score(test_labels, y_pred)\n",
    "f1 = f1_score(test_labels, y_pred)\n",
    "precision = precision_score(test_labels, y_pred)\n",
    "recall = recall_score(test_labels, y_pred)\n",
    "print(\"Model\")\n",
    "print(accuracy)\n",
    "print(f1)\n",
    "print(precision)\n",
    "print(recall)"
   ]
  },
  {
   "cell_type": "code",
   "execution_count": 26,
   "id": "87f0a7be",
   "metadata": {},
   "outputs": [],
   "source": [
    "from sklearn.ensemble import VotingClassifier"
   ]
  },
  {
   "cell_type": "code",
   "execution_count": 35,
   "id": "27e8a8da",
   "metadata": {},
   "outputs": [
    {
     "name": "stdout",
     "output_type": "stream",
     "text": [
      "\u001b[1m200/200\u001b[0m \u001b[32m━━━━━━━━━━━━━━━━━━━━\u001b[0m\u001b[37m\u001b[0m \u001b[1m89s\u001b[0m 413ms/step\n",
      "\u001b[1m200/200\u001b[0m \u001b[32m━━━━━━━━━━━━━━━━━━━━\u001b[0m\u001b[37m\u001b[0m \u001b[1m265s\u001b[0m 1s/step\n",
      "\u001b[1m200/200\u001b[0m \u001b[32m━━━━━━━━━━━━━━━━━━━━\u001b[0m\u001b[37m\u001b[0m \u001b[1m299s\u001b[0m 1s/step\n",
      "Model4\n",
      "0.765\n",
      "0.6631444759206799\n",
      "0.585225\n",
      "0.765\n"
     ]
    }
   ],
   "source": [
    "\n",
    "def soft_voting(models, X):\n",
    "    y_pred_probs = [model.predict(X) for model in models]\n",
    "    avg_pred_probs = np.mean(y_pred_probs, axis=0)\n",
    "    y_pred = np.argmax(avg_pred_probs, axis=1)\n",
    "    return y_pred, avg_pred_probs\n",
    "\n",
    "models = [model1, model2, model3]\n",
    "y_pred, y_pred_probs = soft_voting(models, test_imgs.map(lambda x, y: x))\n",
    "accuracy = accuracy_score(test_labels, y_pred)\n",
    "f1 = f1_score(test_labels, y_pred, average='weighted')\n",
    "precision = precision_score(test_labels, y_pred, average='weighted')\n",
    "recall = recall_score(test_labels, y_pred, average='weighted')\n",
    "print(\"Model4\")\n",
    "print(accuracy)\n",
    "print(f1)\n",
    "print(precision)\n",
    "print( recall)\n"
   ]
  },
  {
   "cell_type": "code",
   "execution_count": 72,
   "id": "2d1501e6",
   "metadata": {},
   "outputs": [
    {
     "data": {
      "text/plain": [
       "(array([0, 1, 0, 0, 0, 0, 1, 1, 1, 0, 0, 0, 1, 0, 0, 0, 1, 0, 0, 0, 0, 0,\n",
       "        0, 0, 0, 0, 0, 0, 0, 0, 0, 0, 0, 0, 0, 1, 0, 0, 0, 1, 0, 0, 0, 0,\n",
       "        0, 0, 0, 0, 0, 0, 0, 1, 1, 1, 0, 1, 0, 1, 0, 0, 0, 0, 0, 0, 0, 0,\n",
       "        0, 1, 0, 0, 0, 0, 0, 0, 0, 0, 1, 0, 0, 0, 0, 0, 0, 0, 0, 0, 1, 0,\n",
       "        0, 0, 0, 0, 0, 0, 0, 0, 0, 0, 0, 0, 0, 0, 0, 0, 0, 0, 1, 1, 0, 0,\n",
       "        0, 0, 0, 0, 1, 1, 1, 0, 0, 0, 0, 0, 0, 0, 0, 1, 0, 0, 0, 0, 0, 0,\n",
       "        1, 0, 0, 1, 1, 1, 0, 0, 0, 0, 1, 0, 1, 0, 1, 0, 0, 1, 0, 0, 0, 0,\n",
       "        1, 0, 0, 0, 0, 0, 1, 0, 0, 1, 0, 0, 0, 0, 0, 0, 1, 0, 0, 1, 1, 1,\n",
       "        0, 0, 0, 1, 1, 0, 0, 0, 0, 1, 1, 0, 0, 1, 0, 1, 0, 0, 1, 1, 0, 0,\n",
       "        1, 1]),\n",
       " array([[0.8268256 , 0.17317437],\n",
       "        [0.82183534, 0.17816468],\n",
       "        [0.6084627 , 0.39153728],\n",
       "        [0.8250029 , 0.17499705],\n",
       "        [0.8103247 , 0.18967526],\n",
       "        [0.82123965, 0.17876035],\n",
       "        [0.7839847 , 0.21601526],\n",
       "        [0.8248048 , 0.17519517],\n",
       "        [0.58920646, 0.41079357],\n",
       "        [0.81675583, 0.18324415],\n",
       "        [0.78909296, 0.21090706],\n",
       "        [0.78314716, 0.21685278],\n",
       "        [0.82721883, 0.17278111],\n",
       "        [0.7539422 , 0.24605781],\n",
       "        [0.78497744, 0.21502252],\n",
       "        [0.6855185 , 0.3144815 ],\n",
       "        [0.80447865, 0.1955214 ],\n",
       "        [0.82636124, 0.1736387 ],\n",
       "        [0.8190562 , 0.18094377],\n",
       "        [0.82525283, 0.17474712],\n",
       "        [0.827439  , 0.17256105],\n",
       "        [0.8175666 , 0.18243344],\n",
       "        [0.7752424 , 0.22475757],\n",
       "        [0.8091538 , 0.19084622],\n",
       "        [0.64145863, 0.3585414 ],\n",
       "        [0.80671436, 0.19328563],\n",
       "        [0.7028434 , 0.29715657],\n",
       "        [0.81285185, 0.1871482 ],\n",
       "        [0.82083195, 0.17916806],\n",
       "        [0.82108825, 0.17891176],\n",
       "        [0.8116474 , 0.18835257],\n",
       "        [0.72954077, 0.2704593 ],\n",
       "        [0.78241634, 0.21758364],\n",
       "        [0.82544637, 0.17455363],\n",
       "        [0.8215777 , 0.17842227],\n",
       "        [0.8256492 , 0.17435081],\n",
       "        [0.8247495 , 0.17525046],\n",
       "        [0.82229584, 0.17770416],\n",
       "        [0.7811842 , 0.21881582],\n",
       "        [0.748897  , 0.25110298],\n",
       "        [0.82130146, 0.1786985 ],\n",
       "        [0.8190522 , 0.18094778],\n",
       "        [0.8238314 , 0.17616867],\n",
       "        [0.7801504 , 0.21984953],\n",
       "        [0.82243395, 0.177566  ],\n",
       "        [0.78816396, 0.21183603],\n",
       "        [0.82578117, 0.17421877],\n",
       "        [0.82473785, 0.17526215],\n",
       "        [0.8261885 , 0.17381155],\n",
       "        [0.79338056, 0.20661946],\n",
       "        [0.6119129 , 0.38808712],\n",
       "        [0.81863385, 0.18136607],\n",
       "        [0.820008  , 0.17999206],\n",
       "        [0.8226437 , 0.17735635],\n",
       "        [0.8030875 , 0.19691251],\n",
       "        [0.8215961 , 0.17840396],\n",
       "        [0.73012424, 0.26987576],\n",
       "        [0.7983114 , 0.20168863],\n",
       "        [0.74688387, 0.25311613],\n",
       "        [0.81445414, 0.18554586],\n",
       "        [0.8039195 , 0.19608055],\n",
       "        [0.82046646, 0.17953356],\n",
       "        [0.6979975 , 0.3020025 ],\n",
       "        [0.7627116 , 0.23728842],\n",
       "        [0.81656617, 0.18343389],\n",
       "        [0.82382566, 0.1761743 ],\n",
       "        [0.8242579 , 0.17574207],\n",
       "        [0.8232458 , 0.17675413],\n",
       "        [0.8088527 , 0.19114739],\n",
       "        [0.813261  , 0.18673904],\n",
       "        [0.82513076, 0.1748692 ],\n",
       "        [0.8258488 , 0.17415118],\n",
       "        [0.8218486 , 0.17815144],\n",
       "        [0.8194172 , 0.18058282],\n",
       "        [0.7771798 , 0.22282021],\n",
       "        [0.8186652 , 0.18133478],\n",
       "        [0.826056  , 0.17394394],\n",
       "        [0.78062373, 0.21937627],\n",
       "        [0.8250794 , 0.17492062],\n",
       "        [0.80620724, 0.19379276],\n",
       "        [0.8199646 , 0.18003541],\n",
       "        [0.78004724, 0.2199527 ],\n",
       "        [0.8260675 , 0.17393243],\n",
       "        [0.8219571 , 0.17804295],\n",
       "        [0.8224266 , 0.17757338],\n",
       "        [0.7779212 , 0.22207876],\n",
       "        [0.82787865, 0.17212142],\n",
       "        [0.8150502 , 0.1849498 ],\n",
       "        [0.79691744, 0.20308255],\n",
       "        [0.81721586, 0.18278416],\n",
       "        [0.799433  , 0.200567  ],\n",
       "        [0.8055102 , 0.19448984],\n",
       "        [0.82773966, 0.1722603 ],\n",
       "        [0.7364537 , 0.26354626],\n",
       "        [0.82240933, 0.17759068],\n",
       "        [0.76263   , 0.23737001],\n",
       "        [0.8074278 , 0.19257219],\n",
       "        [0.7174263 , 0.2825737 ],\n",
       "        [0.82601166, 0.17398833],\n",
       "        [0.82127047, 0.17872955],\n",
       "        [0.8243906 , 0.17560941],\n",
       "        [0.6886606 , 0.31133938],\n",
       "        [0.79992676, 0.20007324],\n",
       "        [0.8142056 , 0.18579443],\n",
       "        [0.8261456 , 0.17385447],\n",
       "        [0.82579184, 0.17420812],\n",
       "        [0.81746095, 0.18253903],\n",
       "        [0.8010244 , 0.19897567],\n",
       "        [0.74750066, 0.25249928],\n",
       "        [0.80940217, 0.19059789],\n",
       "        [0.82602787, 0.17397213],\n",
       "        [0.7988811 , 0.20111887],\n",
       "        [0.8264475 , 0.1735525 ],\n",
       "        [0.82659787, 0.17340212],\n",
       "        [0.8187947 , 0.18120526],\n",
       "        [0.82337743, 0.17662255],\n",
       "        [0.82041126, 0.17958872],\n",
       "        [0.8264801 , 0.17351995],\n",
       "        [0.8276182 , 0.17238176],\n",
       "        [0.820457  , 0.17954303],\n",
       "        [0.8272803 , 0.17271972],\n",
       "        [0.78520936, 0.2147906 ],\n",
       "        [0.82398814, 0.17601186],\n",
       "        [0.7817649 , 0.21823512],\n",
       "        [0.8091752 , 0.19082482],\n",
       "        [0.82725185, 0.1727482 ],\n",
       "        [0.80442095, 0.19557905],\n",
       "        [0.7799401 , 0.22005992],\n",
       "        [0.8096176 , 0.19038242],\n",
       "        [0.7234759 , 0.27652413],\n",
       "        [0.8229967 , 0.17700331],\n",
       "        [0.82648563, 0.17351437],\n",
       "        [0.6330659 , 0.36693415],\n",
       "        [0.8230905 , 0.1769095 ],\n",
       "        [0.7034854 , 0.29651454],\n",
       "        [0.8247021 , 0.17529792],\n",
       "        [0.80369633, 0.19630367],\n",
       "        [0.8197339 , 0.18026604],\n",
       "        [0.7744495 , 0.22555047],\n",
       "        [0.8258879 , 0.17411204],\n",
       "        [0.7558629 , 0.24413715],\n",
       "        [0.81930083, 0.18069923],\n",
       "        [0.81979924, 0.18020076],\n",
       "        [0.8143808 , 0.18561924],\n",
       "        [0.7645542 , 0.23544578],\n",
       "        [0.8247476 , 0.17525236],\n",
       "        [0.8219351 , 0.1780649 ],\n",
       "        [0.7344901 , 0.26550996],\n",
       "        [0.82266206, 0.17733793],\n",
       "        [0.82584673, 0.17415327],\n",
       "        [0.82363796, 0.17636205],\n",
       "        [0.8217457 , 0.17825423],\n",
       "        [0.76571655, 0.23428346],\n",
       "        [0.82208306, 0.1779169 ],\n",
       "        [0.71632546, 0.28367454],\n",
       "        [0.82216406, 0.17783593],\n",
       "        [0.81532437, 0.18467559],\n",
       "        [0.7784093 , 0.22159065],\n",
       "        [0.8161767 , 0.18382327],\n",
       "        [0.80515575, 0.19484425],\n",
       "        [0.8052869 , 0.1947131 ],\n",
       "        [0.82316333, 0.17683668],\n",
       "        [0.827542  , 0.17245795],\n",
       "        [0.81084466, 0.18915533],\n",
       "        [0.7452168 , 0.25478324],\n",
       "        [0.82066256, 0.17933746],\n",
       "        [0.7715947 , 0.22840531],\n",
       "        [0.8128825 , 0.18711752],\n",
       "        [0.8270095 , 0.17299052],\n",
       "        [0.82507205, 0.17492796],\n",
       "        [0.82777953, 0.17222045],\n",
       "        [0.6321475 , 0.36785248],\n",
       "        [0.81191534, 0.1880847 ],\n",
       "        [0.814954  , 0.18504606],\n",
       "        [0.7778843 , 0.22211568],\n",
       "        [0.7926995 , 0.2073005 ],\n",
       "        [0.82731104, 0.17268892],\n",
       "        [0.82333446, 0.17666554],\n",
       "        [0.81959003, 0.18041001],\n",
       "        [0.82770675, 0.17229325],\n",
       "        [0.8214175 , 0.17858249],\n",
       "        [0.8265613 , 0.17343874],\n",
       "        [0.81931573, 0.1806842 ],\n",
       "        [0.7970454 , 0.2029546 ],\n",
       "        [0.82254595, 0.17745407],\n",
       "        [0.8174198 , 0.18258022],\n",
       "        [0.7743776 , 0.22562237],\n",
       "        [0.78432053, 0.21567948],\n",
       "        [0.8246338 , 0.17536624],\n",
       "        [0.8202729 , 0.17972709],\n",
       "        [0.8123841 , 0.18761583],\n",
       "        [0.7803088 , 0.21969114],\n",
       "        [0.8096784 , 0.19032156],\n",
       "        [0.8241534 , 0.17584653],\n",
       "        [0.6524126 , 0.34758744],\n",
       "        [0.8234291 , 0.17657083],\n",
       "        [0.8266346 , 0.1733654 ],\n",
       "        [0.82259995, 0.17740007],\n",
       "        [0.8233912 , 0.17660885],\n",
       "        [0.8213102 , 0.1786898 ]], dtype=float32))"
      ]
     },
     "execution_count": 72,
     "metadata": {},
     "output_type": "execute_result"
    }
   ],
   "source": [
    "test_labels,y_pred_probs"
   ]
  },
  {
   "cell_type": "code",
   "execution_count": 41,
   "id": "05db5fc4",
   "metadata": {},
   "outputs": [],
   "source": [
    "import pickle\n"
   ]
  },
  {
   "cell_type": "code",
   "execution_count": 33,
   "id": "e602f081",
   "metadata": {},
   "outputs": [],
   "source": [
    "for i, model in enumerate(models, start=1):\n",
    "    with open(f'model{i}.pkl', 'wb') as model_file:\n",
    "        pickle.dump(model, model_file)"
   ]
  },
  {
   "cell_type": "code",
   "execution_count": null,
   "id": "154d456c",
   "metadata": {},
   "outputs": [],
   "source": [
    "# ! pip install -q gradio\n",
    "# with open('model.pkl','rb') as file:\n",
    "#   model=pickle.load(file)"
   ]
  },
  {
   "cell_type": "code",
   "execution_count": 102,
   "id": "56e5d04f",
   "metadata": {},
   "outputs": [],
   "source": [
    "\n",
    "def soft_voting(models, X):\n",
    "    y_pred_probs = [model.predict(X) for model in models]\n",
    "    #print(f\"Predictions from each model: {[prob.shape for prob in y_pred_probs]}\")\n",
    "    avg_pred_probs = np.mean(y_pred_probs, axis=0)    \n",
    "    #print(f\"Average predicted probabilities: {avg_pred_probs}\")\n",
    "    y_pred = np.argmax(avg_pred_probs, axis=1)\n",
    "    return y_pred, avg_pred_probs"
   ]
  },
  {
   "cell_type": "code",
   "execution_count": 103,
   "id": "cf51efe0",
   "metadata": {},
   "outputs": [],
   "source": [
    "def image_preprocess(image_path):\n",
    "  img=Image.open(image_path).convert('RGB')\n",
    "  img=img.resize((650,650))\n",
    "  img=np.array(img)\n",
    "  img=img/255.0\n",
    "  return img\n",
    "def prediction(image_path,location):\n",
    "  img=image_preprocess(image_path)\n",
    "  img=np.expand_dims(img,axis=0)\n",
    "  models = [model1, model2, model3]\n",
    "  y_pred, y_pred_probs = soft_voting(models, img)\n",
    "  pred_class=y_pred[0]\n",
    "  print(f\"Final prediction: {y_pred}\")\n",
    "  print(f\"Predicted probabilities: {y_pred_probs}\") \n",
    "#   pred_class=np.argmax(pred[0])\n",
    "  pred_msg=\"\"\n",
    "  maps=\"\"\n",
    "  if pred_class==1:\n",
    "   pred_msg=\"Brain Stroke Detected\"\n",
    "   maps_url=f\"https://www.google.com/maps/search/hospitals+near+{location}\"\n",
    "   maps=f\"Find nearby hospitals: [Google Maps]({maps_url})\"   \n",
    "  else:\n",
    "   pred_msg= \"No brain stroke detected\"\n",
    "   maps=\"Visiting a Hospital is not required\"\n",
    "    \n",
    "  return pred_msg,maps\n",
    "  "
   ]
  },
  {
   "cell_type": "code",
   "execution_count": 104,
   "id": "c41937fb",
   "metadata": {},
   "outputs": [
    {
     "name": "stdout",
     "output_type": "stream",
     "text": [
      "\u001b[1m1/1\u001b[0m \u001b[32m━━━━━━━━━━━━━━━━━━━━\u001b[0m\u001b[37m\u001b[0m \u001b[1m0s\u001b[0m 343ms/step\n",
      "\u001b[1m1/1\u001b[0m \u001b[32m━━━━━━━━━━━━━━━━━━━━\u001b[0m\u001b[37m\u001b[0m \u001b[1m1s\u001b[0m 1s/step\n",
      "\u001b[1m1/1\u001b[0m \u001b[32m━━━━━━━━━━━━━━━━━━━━\u001b[0m\u001b[37m\u001b[0m \u001b[1m1s\u001b[0m 1s/step\n",
      "Final prediction: [0]\n",
      "Predicted probabilities: [[0.67974216 0.3202578 ]]\n",
      "\u001b[1m1/1\u001b[0m \u001b[32m━━━━━━━━━━━━━━━━━━━━\u001b[0m\u001b[37m\u001b[0m \u001b[1m0s\u001b[0m 377ms/step\n",
      "\u001b[1m1/1\u001b[0m \u001b[32m━━━━━━━━━━━━━━━━━━━━\u001b[0m\u001b[37m\u001b[0m \u001b[1m1s\u001b[0m 1s/step\n",
      "\u001b[1m1/1\u001b[0m \u001b[32m━━━━━━━━━━━━━━━━━━━━\u001b[0m\u001b[37m\u001b[0m \u001b[1m1s\u001b[0m 1s/step\n",
      "Final prediction: [0]\n",
      "Predicted probabilities: [[0.6806063  0.31939372]]\n",
      "\u001b[1m1/1\u001b[0m \u001b[32m━━━━━━━━━━━━━━━━━━━━\u001b[0m\u001b[37m\u001b[0m \u001b[1m0s\u001b[0m 391ms/step\n",
      "\u001b[1m1/1\u001b[0m \u001b[32m━━━━━━━━━━━━━━━━━━━━\u001b[0m\u001b[37m\u001b[0m \u001b[1m1s\u001b[0m 1s/step\n",
      "\u001b[1m1/1\u001b[0m \u001b[32m━━━━━━━━━━━━━━━━━━━━\u001b[0m\u001b[37m\u001b[0m \u001b[1m1s\u001b[0m 1s/step\n",
      "Final prediction: [0]\n",
      "Predicted probabilities: [[0.67938966 0.3206104 ]]\n",
      "('No brain stroke detected', 'Visiting a Hospital is not required')\n",
      "('No brain stroke detected', 'Visiting a Hospital is not required')\n",
      "('No brain stroke detected', 'Visiting a Hospital is not required')\n",
      "\u001b[1m1/1\u001b[0m \u001b[32m━━━━━━━━━━━━━━━━━━━━\u001b[0m\u001b[37m\u001b[0m \u001b[1m0s\u001b[0m 388ms/step\n",
      "\u001b[1m1/1\u001b[0m \u001b[32m━━━━━━━━━━━━━━━━━━━━\u001b[0m\u001b[37m\u001b[0m \u001b[1m1s\u001b[0m 1s/step\n",
      "\u001b[1m1/1\u001b[0m \u001b[32m━━━━━━━━━━━━━━━━━━━━\u001b[0m\u001b[37m\u001b[0m \u001b[1m1s\u001b[0m 1s/step\n",
      "Final prediction: [0]\n",
      "Predicted probabilities: [[0.69251394 0.30748612]]\n",
      "\u001b[1m1/1\u001b[0m \u001b[32m━━━━━━━━━━━━━━━━━━━━\u001b[0m\u001b[37m\u001b[0m \u001b[1m0s\u001b[0m 420ms/step\n",
      "\u001b[1m1/1\u001b[0m \u001b[32m━━━━━━━━━━━━━━━━━━━━\u001b[0m\u001b[37m\u001b[0m \u001b[1m1s\u001b[0m 1s/step\n",
      "\u001b[1m1/1\u001b[0m \u001b[32m━━━━━━━━━━━━━━━━━━━━\u001b[0m\u001b[37m\u001b[0m \u001b[1m1s\u001b[0m 1s/step\n",
      "Final prediction: [0]\n",
      "Predicted probabilities: [[0.7180886  0.28191137]]\n",
      "\u001b[1m1/1\u001b[0m \u001b[32m━━━━━━━━━━━━━━━━━━━━\u001b[0m\u001b[37m\u001b[0m \u001b[1m0s\u001b[0m 388ms/step\n",
      "\u001b[1m1/1\u001b[0m \u001b[32m━━━━━━━━━━━━━━━━━━━━\u001b[0m\u001b[37m\u001b[0m \u001b[1m1s\u001b[0m 1s/step\n",
      "\u001b[1m1/1\u001b[0m \u001b[32m━━━━━━━━━━━━━━━━━━━━\u001b[0m\u001b[37m\u001b[0m \u001b[1m1s\u001b[0m 1s/step\n",
      "Final prediction: [0]\n",
      "Predicted probabilities: [[0.7206741  0.27932587]]\n",
      "('No brain stroke detected', 'Visiting a Hospital is not required')\n",
      "('No brain stroke detected', 'Visiting a Hospital is not required')\n",
      "('No brain stroke detected', 'Visiting a Hospital is not required')\n",
      "\u001b[1m1/1\u001b[0m \u001b[32m━━━━━━━━━━━━━━━━━━━━\u001b[0m\u001b[37m\u001b[0m \u001b[1m0s\u001b[0m 403ms/step\n",
      "\u001b[1m1/1\u001b[0m \u001b[32m━━━━━━━━━━━━━━━━━━━━\u001b[0m\u001b[37m\u001b[0m \u001b[1m1s\u001b[0m 1s/step\n",
      "\u001b[1m1/1\u001b[0m \u001b[32m━━━━━━━━━━━━━━━━━━━━\u001b[0m\u001b[37m\u001b[0m \u001b[1m1s\u001b[0m 1s/step\n",
      "Final prediction: [0]\n",
      "Predicted probabilities: [[0.7142153 0.2857847]]\n",
      "\u001b[1m1/1\u001b[0m \u001b[32m━━━━━━━━━━━━━━━━━━━━\u001b[0m\u001b[37m\u001b[0m \u001b[1m0s\u001b[0m 402ms/step\n",
      "\u001b[1m1/1\u001b[0m \u001b[32m━━━━━━━━━━━━━━━━━━━━\u001b[0m\u001b[37m\u001b[0m \u001b[1m1s\u001b[0m 1s/step\n",
      "\u001b[1m1/1\u001b[0m \u001b[32m━━━━━━━━━━━━━━━━━━━━\u001b[0m\u001b[37m\u001b[0m \u001b[1m1s\u001b[0m 1s/step\n",
      "Final prediction: [0]\n",
      "Predicted probabilities: [[0.7023404  0.29765955]]\n",
      "\u001b[1m1/1\u001b[0m \u001b[32m━━━━━━━━━━━━━━━━━━━━\u001b[0m\u001b[37m\u001b[0m \u001b[1m0s\u001b[0m 377ms/step\n",
      "\u001b[1m1/1\u001b[0m \u001b[32m━━━━━━━━━━━━━━━━━━━━\u001b[0m\u001b[37m\u001b[0m \u001b[1m1s\u001b[0m 1s/step\n",
      "\u001b[1m1/1\u001b[0m \u001b[32m━━━━━━━━━━━━━━━━━━━━\u001b[0m\u001b[37m\u001b[0m \u001b[1m1s\u001b[0m 1s/step\n",
      "Final prediction: [0]\n",
      "Predicted probabilities: [[0.71604496 0.283955  ]]\n",
      "('No brain stroke detected', 'Visiting a Hospital is not required')\n",
      "('No brain stroke detected', 'Visiting a Hospital is not required')\n",
      "('No brain stroke detected', 'Visiting a Hospital is not required')\n",
      "\u001b[1m1/1\u001b[0m \u001b[32m━━━━━━━━━━━━━━━━━━━━\u001b[0m\u001b[37m\u001b[0m \u001b[1m0s\u001b[0m 381ms/step\n",
      "\u001b[1m1/1\u001b[0m \u001b[32m━━━━━━━━━━━━━━━━━━━━\u001b[0m\u001b[37m\u001b[0m \u001b[1m1s\u001b[0m 1s/step\n",
      "\u001b[1m1/1\u001b[0m \u001b[32m━━━━━━━━━━━━━━━━━━━━\u001b[0m\u001b[37m\u001b[0m \u001b[1m1s\u001b[0m 1s/step\n",
      "Final prediction: [0]\n",
      "Predicted probabilities: [[0.7053206 0.2946794]]\n",
      "\u001b[1m1/1\u001b[0m \u001b[32m━━━━━━━━━━━━━━━━━━━━\u001b[0m\u001b[37m\u001b[0m \u001b[1m0s\u001b[0m 386ms/step\n",
      "\u001b[1m1/1\u001b[0m \u001b[32m━━━━━━━━━━━━━━━━━━━━\u001b[0m\u001b[37m\u001b[0m \u001b[1m1s\u001b[0m 1s/step\n",
      "\u001b[1m1/1\u001b[0m \u001b[32m━━━━━━━━━━━━━━━━━━━━\u001b[0m\u001b[37m\u001b[0m \u001b[1m1s\u001b[0m 1s/step\n",
      "Final prediction: [0]\n",
      "Predicted probabilities: [[0.69411355 0.30588645]]\n",
      "\u001b[1m1/1\u001b[0m \u001b[32m━━━━━━━━━━━━━━━━━━━━\u001b[0m\u001b[37m\u001b[0m \u001b[1m0s\u001b[0m 389ms/step\n",
      "\u001b[1m1/1\u001b[0m \u001b[32m━━━━━━━━━━━━━━━━━━━━\u001b[0m\u001b[37m\u001b[0m \u001b[1m1s\u001b[0m 1s/step\n",
      "\u001b[1m1/1\u001b[0m \u001b[32m━━━━━━━━━━━━━━━━━━━━\u001b[0m\u001b[37m\u001b[0m \u001b[1m1s\u001b[0m 1s/step\n",
      "Final prediction: [0]\n",
      "Predicted probabilities: [[0.684879   0.31512102]]\n",
      "('No brain stroke detected', 'Visiting a Hospital is not required')\n",
      "('No brain stroke detected', 'Visiting a Hospital is not required')\n",
      "('No brain stroke detected', 'Visiting a Hospital is not required')\n",
      "\u001b[1m1/1\u001b[0m \u001b[32m━━━━━━━━━━━━━━━━━━━━\u001b[0m\u001b[37m\u001b[0m \u001b[1m0s\u001b[0m 389ms/step\n",
      "\u001b[1m1/1\u001b[0m \u001b[32m━━━━━━━━━━━━━━━━━━━━\u001b[0m\u001b[37m\u001b[0m \u001b[1m1s\u001b[0m 1s/step\n",
      "\u001b[1m1/1\u001b[0m \u001b[32m━━━━━━━━━━━━━━━━━━━━\u001b[0m\u001b[37m\u001b[0m \u001b[1m1s\u001b[0m 1s/step\n",
      "Final prediction: [0]\n",
      "Predicted probabilities: [[0.6707509 0.3292491]]\n",
      "\u001b[1m1/1\u001b[0m \u001b[32m━━━━━━━━━━━━━━━━━━━━\u001b[0m\u001b[37m\u001b[0m \u001b[1m0s\u001b[0m 394ms/step\n",
      "\u001b[1m1/1\u001b[0m \u001b[32m━━━━━━━━━━━━━━━━━━━━\u001b[0m\u001b[37m\u001b[0m \u001b[1m1s\u001b[0m 1s/step\n",
      "\u001b[1m1/1\u001b[0m \u001b[32m━━━━━━━━━━━━━━━━━━━━\u001b[0m\u001b[37m\u001b[0m \u001b[1m1s\u001b[0m 1s/step\n",
      "Final prediction: [0]\n",
      "Predicted probabilities: [[0.6595312  0.34046888]]\n",
      "\u001b[1m1/1\u001b[0m \u001b[32m━━━━━━━━━━━━━━━━━━━━\u001b[0m\u001b[37m\u001b[0m \u001b[1m0s\u001b[0m 372ms/step\n",
      "\u001b[1m1/1\u001b[0m \u001b[32m━━━━━━━━━━━━━━━━━━━━\u001b[0m\u001b[37m\u001b[0m \u001b[1m1s\u001b[0m 1s/step\n",
      "\u001b[1m1/1\u001b[0m \u001b[32m━━━━━━━━━━━━━━━━━━━━\u001b[0m\u001b[37m\u001b[0m \u001b[1m1s\u001b[0m 1s/step\n",
      "Final prediction: [0]\n",
      "Predicted probabilities: [[0.7105556  0.28944433]]\n",
      "('No brain stroke detected', 'Visiting a Hospital is not required')\n",
      "('No brain stroke detected', 'Visiting a Hospital is not required')\n",
      "('No brain stroke detected', 'Visiting a Hospital is not required')\n",
      "\u001b[1m1/1\u001b[0m \u001b[32m━━━━━━━━━━━━━━━━━━━━\u001b[0m\u001b[37m\u001b[0m \u001b[1m0s\u001b[0m 377ms/step\n",
      "\u001b[1m1/1\u001b[0m \u001b[32m━━━━━━━━━━━━━━━━━━━━\u001b[0m\u001b[37m\u001b[0m \u001b[1m1s\u001b[0m 1s/step\n",
      "\u001b[1m1/1\u001b[0m \u001b[32m━━━━━━━━━━━━━━━━━━━━\u001b[0m\u001b[37m\u001b[0m \u001b[1m1s\u001b[0m 1s/step\n",
      "Final prediction: [0]\n",
      "Predicted probabilities: [[0.6599434  0.34005666]]\n",
      "\u001b[1m1/1\u001b[0m \u001b[32m━━━━━━━━━━━━━━━━━━━━\u001b[0m\u001b[37m\u001b[0m \u001b[1m0s\u001b[0m 360ms/step\n",
      "\u001b[1m1/1\u001b[0m \u001b[32m━━━━━━━━━━━━━━━━━━━━\u001b[0m\u001b[37m\u001b[0m \u001b[1m1s\u001b[0m 1s/step\n",
      "\u001b[1m1/1\u001b[0m \u001b[32m━━━━━━━━━━━━━━━━━━━━\u001b[0m\u001b[37m\u001b[0m \u001b[1m1s\u001b[0m 1s/step\n",
      "Final prediction: [0]\n",
      "Predicted probabilities: [[0.66458696 0.33541307]]\n",
      "\u001b[1m1/1\u001b[0m \u001b[32m━━━━━━━━━━━━━━━━━━━━\u001b[0m\u001b[37m\u001b[0m \u001b[1m0s\u001b[0m 396ms/step\n",
      "\u001b[1m1/1\u001b[0m \u001b[32m━━━━━━━━━━━━━━━━━━━━\u001b[0m\u001b[37m\u001b[0m \u001b[1m1s\u001b[0m 1s/step\n",
      "\u001b[1m1/1\u001b[0m \u001b[32m━━━━━━━━━━━━━━━━━━━━\u001b[0m\u001b[37m\u001b[0m \u001b[1m1s\u001b[0m 1s/step\n",
      "Final prediction: [0]\n",
      "Predicted probabilities: [[0.6714771 0.3285229]]\n",
      "('No brain stroke detected', 'Visiting a Hospital is not required')\n",
      "('No brain stroke detected', 'Visiting a Hospital is not required')\n",
      "('No brain stroke detected', 'Visiting a Hospital is not required')\n",
      "\u001b[1m1/1\u001b[0m \u001b[32m━━━━━━━━━━━━━━━━━━━━\u001b[0m\u001b[37m\u001b[0m \u001b[1m0s\u001b[0m 397ms/step\n",
      "\u001b[1m1/1\u001b[0m \u001b[32m━━━━━━━━━━━━━━━━━━━━\u001b[0m\u001b[37m\u001b[0m \u001b[1m1s\u001b[0m 1s/step\n",
      "\u001b[1m1/1\u001b[0m \u001b[32m━━━━━━━━━━━━━━━━━━━━\u001b[0m\u001b[37m\u001b[0m \u001b[1m1s\u001b[0m 1s/step\n",
      "Final prediction: [0]\n",
      "Predicted probabilities: [[0.6760015  0.32399854]]\n",
      "\u001b[1m1/1\u001b[0m \u001b[32m━━━━━━━━━━━━━━━━━━━━\u001b[0m\u001b[37m\u001b[0m \u001b[1m0s\u001b[0m 402ms/step\n",
      "\u001b[1m1/1\u001b[0m \u001b[32m━━━━━━━━━━━━━━━━━━━━\u001b[0m\u001b[37m\u001b[0m \u001b[1m1s\u001b[0m 1s/step\n",
      "\u001b[1m1/1\u001b[0m \u001b[32m━━━━━━━━━━━━━━━━━━━━\u001b[0m\u001b[37m\u001b[0m \u001b[1m1s\u001b[0m 1s/step\n",
      "Final prediction: [0]\n",
      "Predicted probabilities: [[0.684282   0.31571802]]\n",
      "('No brain stroke detected', 'Visiting a Hospital is not required')\n",
      "('No brain stroke detected', 'Visiting a Hospital is not required')\n"
     ]
    }
   ],
   "source": [
    "img1=\"normal3.jpg\"\n",
    "img2=\"normal4.jpg\"\n",
    "img3=\"stroke4.jpg\"\n",
    "img4=\"97 (1).jpg\"\n",
    "img5=\"97 (10).jpg\"\n",
    "img6=\"97 (11).jpg\"\n",
    "img7=\"97 (12).jpg\"\n",
    "img8=\"97 (13).jpg\"\n",
    "img9=\"97 (15).jpg\"\n",
    "img10=\"97 (18).jpg\"\n",
    "img11=\"97 (2).jpg\"\n",
    "img12=\"97 (24).jpg\"\n",
    "img13=\"97 (26).jpg\"\n",
    "img14=\"97 (28).jpg\"\n",
    "img15=\"97 (3).jpg\"\n",
    "img16=\"97 (32).jpg\"\n",
    "img17=\"97 (34).jpg\"\n",
    "img18=\"97 (35).jpg\"\n",
    "img19=\"97 (36).jpg\"\n",
    "img20=\"97 (38).jpg\"\n",
    "\n",
    "pred_class1=prediction(img1,\"malakpet\")\n",
    "pred_class2=prediction(img2,\"malakpet\")\n",
    "pred_class3=prediction(img3,\"gandhinagar\")\n",
    "print((pred_class1))\n",
    "print((pred_class2))\n",
    "print((pred_class3))\n",
    "pred_class1=prediction(img4,\"malakpet\")\n",
    "pred_class2=prediction(img5,\"malakpet\")\n",
    "pred_class3=prediction(img6,\"gandhinagar\")\n",
    "print((pred_class1))\n",
    "print((pred_class2))\n",
    "print((pred_class3))\n",
    "pred_class1=prediction(img7,\"malakpet\")\n",
    "pred_class2=prediction(img8,\"malakpet\")\n",
    "pred_class3=prediction(img9,\"gandhinagar\")\n",
    "print((pred_class1))\n",
    "print((pred_class2))\n",
    "print((pred_class3))\n",
    "pred_class1=prediction(img10,\"malakpet\")\n",
    "pred_class2=prediction(img11,\"malakpet\")\n",
    "pred_class3=prediction(img12,\"gandhinagar\")\n",
    "print((pred_class1))\n",
    "print((pred_class2))\n",
    "print((pred_class3))\n",
    "pred_class1=prediction(img13,\"malakpet\")\n",
    "pred_class2=prediction(img14,\"malakpet\")\n",
    "pred_class3=prediction(img15,\"gandhinagar\")\n",
    "print((pred_class1))\n",
    "print((pred_class2))\n",
    "print((pred_class3))\n",
    "pred_class1=prediction(img16,\"malakpet\")\n",
    "pred_class2=prediction(img17,\"malakpet\")\n",
    "pred_class3=prediction(img18,\"gandhinagar\")\n",
    "print((pred_class1))\n",
    "print((pred_class2))\n",
    "print((pred_class3))\n",
    "pred_class1=prediction(img19,\"malakpet\")\n",
    "pred_class2=prediction(img20,\"malakpet\")\n",
    "print((pred_class1))\n",
    "print((pred_class2))"
   ]
  },
  {
   "cell_type": "code",
   "execution_count": 101,
   "id": "9bc32b74",
   "metadata": {},
   "outputs": [
    {
     "name": "stdout",
     "output_type": "stream",
     "text": [
      "\u001b[1m1/1\u001b[0m \u001b[32m━━━━━━━━━━━━━━━━━━━━\u001b[0m\u001b[37m\u001b[0m \u001b[1m0s\u001b[0m 378ms/step\n",
      "\u001b[1m1/1\u001b[0m \u001b[32m━━━━━━━━━━━━━━━━━━━━\u001b[0m\u001b[37m\u001b[0m \u001b[1m1s\u001b[0m 1s/step\n",
      "\u001b[1m1/1\u001b[0m \u001b[32m━━━━━━━━━━━━━━━━━━━━\u001b[0m\u001b[37m\u001b[0m \u001b[1m1s\u001b[0m 1s/step\n",
      "Predictions from each model: [(1, 2), (1, 2), (1, 2)]\n",
      "Average predicted probabilities: [[0.7297139  0.27028608]]\n",
      "Final prediction: [0]\n",
      "Predicted probabilities: [[0.7297139  0.27028608]]\n",
      "('No brain stroke detected', 'Visiting a Hospital is not required')\n"
     ]
    }
   ],
   "source": [
    "img1=\"58 (10).jpg\"\n",
    "pred_class1=prediction(img1,\"malakpet\")\n",
    "print(pred_class1)"
   ]
  },
  {
   "cell_type": "code",
   "execution_count": 87,
   "id": "30ef39e2",
   "metadata": {},
   "outputs": [],
   "source": [
    "!pip install -q gradio\n",
    "import gradio as gr"
   ]
  },
  {
   "cell_type": "code",
   "execution_count": 105,
   "id": "8cc9a2d3",
   "metadata": {},
   "outputs": [
    {
     "name": "stdout",
     "output_type": "stream",
     "text": [
      "Running on local URL:  http://127.0.0.1:7863\n",
      "Running on public URL: https://b9d516927703300a7f.gradio.live\n",
      "\n",
      "This share link expires in 72 hours. For free permanent hosting and GPU upgrades, run `gradio deploy` from Terminal to deploy to Spaces (https://huggingface.co/spaces)\n"
     ]
    },
    {
     "data": {
      "text/html": [
       "<div><iframe src=\"https://b9d516927703300a7f.gradio.live\" width=\"100%\" height=\"500\" allow=\"autoplay; camera; microphone; clipboard-read; clipboard-write;\" frameborder=\"0\" allowfullscreen></iframe></div>"
      ],
      "text/plain": [
       "<IPython.core.display.HTML object>"
      ]
     },
     "metadata": {},
     "output_type": "display_data"
    },
    {
     "data": {
      "text/plain": []
     },
     "execution_count": 105,
     "metadata": {},
     "output_type": "execute_result"
    }
   ],
   "source": [
    "interface = gr.Interface(\n",
    "    fn=prediction,\n",
    "    inputs=[\n",
    "gr.Image(type=\"filepath\"),\n",
    "gr.Textbox(label=\"Location\")],\n",
    "    outputs=[gr.Textbox(label=\"Prediction By Model\"),\n",
    "            gr.Markdown(label=\"Maps\")],\n",
    "    title=\"Brain Stroke Prediction with  MRI Scans using Ensemble Machine Learning\"\n",
    ")\n",
    "interface.launch(share=True)\n",
    "\n"
   ]
  },
  {
   "cell_type": "code",
   "execution_count": null,
   "id": "6fa25b46",
   "metadata": {},
   "outputs": [],
   "source": []
  }
 ],
 "metadata": {
  "kernelspec": {
   "display_name": "Python 3 (ipykernel)",
   "language": "python",
   "name": "python3"
  },
  "language_info": {
   "codemirror_mode": {
    "name": "ipython",
    "version": 3
   },
   "file_extension": ".py",
   "mimetype": "text/x-python",
   "name": "python",
   "nbconvert_exporter": "python",
   "pygments_lexer": "ipython3",
   "version": "3.11.7"
  }
 },
 "nbformat": 4,
 "nbformat_minor": 5
}
