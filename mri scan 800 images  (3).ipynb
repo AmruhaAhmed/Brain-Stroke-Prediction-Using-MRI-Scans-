{
 "cells": [
  {
   "cell_type": "code",
   "execution_count": 1,
   "id": "a6cce076",
   "metadata": {},
   "outputs": [
    {
     "name": "stdout",
     "output_type": "stream",
     "text": [
      "Requirement already satisfied: tensorflow in c:\\users\\dell\\anaconda3\\lib\\site-packages (2.17.0)\n",
      "Requirement already satisfied: tensorflow-intel==2.17.0 in c:\\users\\dell\\anaconda3\\lib\\site-packages (from tensorflow) (2.17.0)\n",
      "Requirement already satisfied: absl-py>=1.0.0 in c:\\users\\dell\\anaconda3\\lib\\site-packages (from tensorflow-intel==2.17.0->tensorflow) (2.1.0)\n",
      "Requirement already satisfied: astunparse>=1.6.0 in c:\\users\\dell\\anaconda3\\lib\\site-packages (from tensorflow-intel==2.17.0->tensorflow) (1.6.3)\n",
      "Requirement already satisfied: flatbuffers>=24.3.25 in c:\\users\\dell\\anaconda3\\lib\\site-packages (from tensorflow-intel==2.17.0->tensorflow) (24.3.25)\n",
      "Requirement already satisfied: gast!=0.5.0,!=0.5.1,!=0.5.2,>=0.2.1 in c:\\users\\dell\\anaconda3\\lib\\site-packages (from tensorflow-intel==2.17.0->tensorflow) (0.6.0)\n",
      "Requirement already satisfied: google-pasta>=0.1.1 in c:\\users\\dell\\anaconda3\\lib\\site-packages (from tensorflow-intel==2.17.0->tensorflow) (0.2.0)\n",
      "Requirement already satisfied: h5py>=3.10.0 in c:\\users\\dell\\anaconda3\\lib\\site-packages (from tensorflow-intel==2.17.0->tensorflow) (3.11.0)\n",
      "Requirement already satisfied: libclang>=13.0.0 in c:\\users\\dell\\anaconda3\\lib\\site-packages (from tensorflow-intel==2.17.0->tensorflow) (18.1.1)\n",
      "Requirement already satisfied: ml-dtypes<0.5.0,>=0.3.1 in c:\\users\\dell\\anaconda3\\lib\\site-packages (from tensorflow-intel==2.17.0->tensorflow) (0.4.0)\n",
      "Requirement already satisfied: opt-einsum>=2.3.2 in c:\\users\\dell\\anaconda3\\lib\\site-packages (from tensorflow-intel==2.17.0->tensorflow) (3.3.0)\n",
      "Requirement already satisfied: packaging in c:\\users\\dell\\anaconda3\\lib\\site-packages (from tensorflow-intel==2.17.0->tensorflow) (23.1)\n",
      "Requirement already satisfied: protobuf!=4.21.0,!=4.21.1,!=4.21.2,!=4.21.3,!=4.21.4,!=4.21.5,<5.0.0dev,>=3.20.3 in c:\\users\\dell\\anaconda3\\lib\\site-packages (from tensorflow-intel==2.17.0->tensorflow) (3.20.3)\n",
      "Requirement already satisfied: requests<3,>=2.21.0 in c:\\users\\dell\\anaconda3\\lib\\site-packages (from tensorflow-intel==2.17.0->tensorflow) (2.31.0)\n",
      "Requirement already satisfied: setuptools in c:\\users\\dell\\anaconda3\\lib\\site-packages (from tensorflow-intel==2.17.0->tensorflow) (68.2.2)\n",
      "Requirement already satisfied: six>=1.12.0 in c:\\users\\dell\\anaconda3\\lib\\site-packages (from tensorflow-intel==2.17.0->tensorflow) (1.16.0)\n",
      "Requirement already satisfied: termcolor>=1.1.0 in c:\\users\\dell\\anaconda3\\lib\\site-packages (from tensorflow-intel==2.17.0->tensorflow) (2.4.0)\n",
      "Requirement already satisfied: typing-extensions>=3.6.6 in c:\\users\\dell\\anaconda3\\lib\\site-packages (from tensorflow-intel==2.17.0->tensorflow) (4.9.0)\n",
      "Requirement already satisfied: wrapt>=1.11.0 in c:\\users\\dell\\anaconda3\\lib\\site-packages (from tensorflow-intel==2.17.0->tensorflow) (1.14.1)\n",
      "Requirement already satisfied: grpcio<2.0,>=1.24.3 in c:\\users\\dell\\anaconda3\\lib\\site-packages (from tensorflow-intel==2.17.0->tensorflow) (1.65.1)\n",
      "Requirement already satisfied: tensorboard<2.18,>=2.17 in c:\\users\\dell\\anaconda3\\lib\\site-packages (from tensorflow-intel==2.17.0->tensorflow) (2.17.0)\n",
      "Requirement already satisfied: keras>=3.2.0 in c:\\users\\dell\\anaconda3\\lib\\site-packages (from tensorflow-intel==2.17.0->tensorflow) (3.4.1)\n",
      "Requirement already satisfied: tensorflow-io-gcs-filesystem>=0.23.1 in c:\\users\\dell\\anaconda3\\lib\\site-packages (from tensorflow-intel==2.17.0->tensorflow) (0.31.0)\n",
      "Requirement already satisfied: numpy<2.0.0,>=1.23.5 in c:\\users\\dell\\anaconda3\\lib\\site-packages (from tensorflow-intel==2.17.0->tensorflow) (1.26.4)\n",
      "Requirement already satisfied: wheel<1.0,>=0.23.0 in c:\\users\\dell\\anaconda3\\lib\\site-packages (from astunparse>=1.6.0->tensorflow-intel==2.17.0->tensorflow) (0.41.2)\n",
      "Requirement already satisfied: rich in c:\\users\\dell\\anaconda3\\lib\\site-packages (from keras>=3.2.0->tensorflow-intel==2.17.0->tensorflow) (13.3.5)\n",
      "Requirement already satisfied: namex in c:\\users\\dell\\anaconda3\\lib\\site-packages (from keras>=3.2.0->tensorflow-intel==2.17.0->tensorflow) (0.0.8)\n",
      "Requirement already satisfied: optree in c:\\users\\dell\\anaconda3\\lib\\site-packages (from keras>=3.2.0->tensorflow-intel==2.17.0->tensorflow) (0.12.1)\n",
      "Requirement already satisfied: charset-normalizer<4,>=2 in c:\\users\\dell\\anaconda3\\lib\\site-packages (from requests<3,>=2.21.0->tensorflow-intel==2.17.0->tensorflow) (2.0.4)\n",
      "Requirement already satisfied: idna<4,>=2.5 in c:\\users\\dell\\anaconda3\\lib\\site-packages (from requests<3,>=2.21.0->tensorflow-intel==2.17.0->tensorflow) (3.4)\n",
      "Requirement already satisfied: urllib3<3,>=1.21.1 in c:\\users\\dell\\anaconda3\\lib\\site-packages (from requests<3,>=2.21.0->tensorflow-intel==2.17.0->tensorflow) (2.0.7)\n",
      "Requirement already satisfied: certifi>=2017.4.17 in c:\\users\\dell\\anaconda3\\lib\\site-packages (from requests<3,>=2.21.0->tensorflow-intel==2.17.0->tensorflow) (2024.2.2)\n",
      "Requirement already satisfied: markdown>=2.6.8 in c:\\users\\dell\\anaconda3\\lib\\site-packages (from tensorboard<2.18,>=2.17->tensorflow-intel==2.17.0->tensorflow) (3.4.1)\n",
      "Requirement already satisfied: tensorboard-data-server<0.8.0,>=0.7.0 in c:\\users\\dell\\anaconda3\\lib\\site-packages (from tensorboard<2.18,>=2.17->tensorflow-intel==2.17.0->tensorflow) (0.7.2)\n",
      "Requirement already satisfied: werkzeug>=1.0.1 in c:\\users\\dell\\anaconda3\\lib\\site-packages (from tensorboard<2.18,>=2.17->tensorflow-intel==2.17.0->tensorflow) (2.2.3)\n",
      "Requirement already satisfied: MarkupSafe>=2.1.1 in c:\\users\\dell\\anaconda3\\lib\\site-packages (from werkzeug>=1.0.1->tensorboard<2.18,>=2.17->tensorflow-intel==2.17.0->tensorflow) (2.1.3)\n",
      "Requirement already satisfied: markdown-it-py<3.0.0,>=2.2.0 in c:\\users\\dell\\anaconda3\\lib\\site-packages (from rich->keras>=3.2.0->tensorflow-intel==2.17.0->tensorflow) (2.2.0)\n",
      "Requirement already satisfied: pygments<3.0.0,>=2.13.0 in c:\\users\\dell\\anaconda3\\lib\\site-packages (from rich->keras>=3.2.0->tensorflow-intel==2.17.0->tensorflow) (2.15.1)\n",
      "Requirement already satisfied: mdurl~=0.1 in c:\\users\\dell\\anaconda3\\lib\\site-packages (from markdown-it-py<3.0.0,>=2.2.0->rich->keras>=3.2.0->tensorflow-intel==2.17.0->tensorflow) (0.1.0)\n",
      "Requirement already satisfied: matplotlib in c:\\users\\dell\\anaconda3\\lib\\site-packages (3.8.0)\n",
      "Requirement already satisfied: contourpy>=1.0.1 in c:\\users\\dell\\anaconda3\\lib\\site-packages (from matplotlib) (1.2.0)\n",
      "Requirement already satisfied: cycler>=0.10 in c:\\users\\dell\\anaconda3\\lib\\site-packages (from matplotlib) (0.11.0)\n",
      "Requirement already satisfied: fonttools>=4.22.0 in c:\\users\\dell\\anaconda3\\lib\\site-packages (from matplotlib) (4.25.0)\n",
      "Requirement already satisfied: kiwisolver>=1.0.1 in c:\\users\\dell\\anaconda3\\lib\\site-packages (from matplotlib) (1.4.4)\n",
      "Requirement already satisfied: numpy<2,>=1.21 in c:\\users\\dell\\anaconda3\\lib\\site-packages (from matplotlib) (1.26.4)\n",
      "Requirement already satisfied: packaging>=20.0 in c:\\users\\dell\\anaconda3\\lib\\site-packages (from matplotlib) (23.1)\n",
      "Requirement already satisfied: pillow>=6.2.0 in c:\\users\\dell\\anaconda3\\lib\\site-packages (from matplotlib) (10.2.0)\n",
      "Requirement already satisfied: pyparsing>=2.3.1 in c:\\users\\dell\\anaconda3\\lib\\site-packages (from matplotlib) (3.0.9)\n",
      "Requirement already satisfied: python-dateutil>=2.7 in c:\\users\\dell\\anaconda3\\lib\\site-packages (from matplotlib) (2.8.2)\n",
      "Requirement already satisfied: six>=1.5 in c:\\users\\dell\\anaconda3\\lib\\site-packages (from python-dateutil>=2.7->matplotlib) (1.16.0)\n"
     ]
    }
   ],
   "source": [
    "!pip install tensorflow\n",
    "!pip install matplotlib\n",
    "import tensorflow as tf\n",
    "from tensorflow.keras import models,layers\n",
    "import matplotlib.pyplot as plt\n",
    "from tensorflow import keras\n",
    "import keras.layers\n",
    "from PIL import Image\n",
    "import warnings\n",
    "warnings.filterwarnings('ignore')\n",
    "from sklearn.metrics import accuracy_score,confusion_matrix,f1_score,recall_score,precision_score\n",
    "import numpy as np\n",
    "import pickle"
   ]
  },
  {
   "cell_type": "code",
   "execution_count": 2,
   "id": "7a523fe2",
   "metadata": {},
   "outputs": [
    {
     "name": "stdout",
     "output_type": "stream",
     "text": [
      "['mri']\n"
     ]
    }
   ],
   "source": [
    "import zipfile\n",
    "import os\n",
    "zip_file_path = './mrismall800.zip'\n",
    "extract_dir = './mrismall800'\n",
    "if not os.path.exists(extract_dir):\n",
    "    os.makedirs(extract_dir)\n",
    "with zipfile.ZipFile(zip_file_path, 'r') as zip_ref:\n",
    "    zip_ref.extractall(extract_dir)\n",
    "print(os.listdir(extract_dir))"
   ]
  },
  {
   "cell_type": "code",
   "execution_count": 3,
   "id": "d4fdfae2",
   "metadata": {},
   "outputs": [],
   "source": [
    "IMAGE_SIZE=650\n",
    "BATCH_SIZE=32"
   ]
  },
  {
   "cell_type": "code",
   "execution_count": 4,
   "id": "b90689d3",
   "metadata": {},
   "outputs": [
    {
     "name": "stdout",
     "output_type": "stream",
     "text": [
      "['Normal', 'Stroke']\n"
     ]
    }
   ],
   "source": [
    "import os\n",
    "print(os.listdir('./mrismall800/mri/dataset'))"
   ]
  },
  {
   "cell_type": "code",
   "execution_count": 5,
   "id": "d4acc5d2",
   "metadata": {},
   "outputs": [
    {
     "name": "stdout",
     "output_type": "stream",
     "text": [
      "Found 800 files belonging to 2 classes.\n"
     ]
    }
   ],
   "source": [
    "df=tf.keras.preprocessing.image_dataset_from_directory(\n",
    "    \"mrismall800/mri/dataset\",\n",
    "    shuffle=True,\n",
    "    image_size=(IMAGE_SIZE,IMAGE_SIZE),\n",
    "    batch_size=BATCH_SIZE\n",
    ")"
   ]
  },
  {
   "cell_type": "code",
   "execution_count": 6,
   "id": "5d1ff5aa",
   "metadata": {},
   "outputs": [
    {
     "data": {
      "text/plain": [
       "['Normal', 'Stroke']"
      ]
     },
     "execution_count": 6,
     "metadata": {},
     "output_type": "execute_result"
    }
   ],
   "source": [
    "class_names=df.class_names\n",
    "class_names"
   ]
  },
  {
   "cell_type": "code",
   "execution_count": 7,
   "id": "4876d78e",
   "metadata": {},
   "outputs": [],
   "source": [
    "image_count=0\n",
    "for images, labels in df:\n",
    "    image_count += images.shape[0]"
   ]
  },
  {
   "cell_type": "code",
   "execution_count": 8,
   "id": "66e35aef",
   "metadata": {},
   "outputs": [
    {
     "data": {
      "text/plain": [
       "800"
      ]
     },
     "execution_count": 8,
     "metadata": {},
     "output_type": "execute_result"
    }
   ],
   "source": [
    "image_count"
   ]
  },
  {
   "cell_type": "code",
   "execution_count": 9,
   "id": "fcc16987",
   "metadata": {},
   "outputs": [],
   "source": [
    "def  total_images(dataset):\n",
    "    count = 0\n",
    "    for _ in dataset:\n",
    "        count += 1\n",
    "    return count"
   ]
  },
  {
   "cell_type": "code",
   "execution_count": 10,
   "id": "18387a48",
   "metadata": {},
   "outputs": [],
   "source": [
    "def split(df,train_split=0.75,test_split=0.25,shuffle=True,shuffle_size=5000):\n",
    "  df_shape= total_images(df.unbatch())\n",
    "  df = df.unbatch().batch(1)\n",
    "  if shuffle:\n",
    "    df=df.shuffle(shuffle_size,seed=50)\n",
    "  train_size=int(train_split*df_shape)\n",
    "  test_size=int(test_split*df_shape)\n",
    "  train_df=df.take(train_size)\n",
    "  test_df=df.skip(train_size).take(test_size)\n",
    "  return train_df,test_df\n"
   ]
  },
  {
   "cell_type": "code",
   "execution_count": 11,
   "id": "99fd376c",
   "metadata": {},
   "outputs": [],
   "source": [
    "train_imgs,test_imgs=split(df)"
   ]
  },
  {
   "cell_type": "code",
   "execution_count": 12,
   "id": "2cf0cef5",
   "metadata": {},
   "outputs": [],
   "source": [
    "resize_rescale=tf.keras.Sequential([\n",
    "    layers.Resizing(650,650),\n",
    "    layers.Rescaling(1.0/255)\n",
    "])\n",
    "data_enhance = tf.keras.Sequential([\n",
    "    layers.RandomFlip(\"horizontal_and_vertical\"),\n",
    "    layers.RandomRotation(0.3),\n",
    "    layers.RandomZoom(0.3)\n",
    "])"
   ]
  },
  {
   "cell_type": "code",
   "execution_count": 13,
   "id": "bf677b35",
   "metadata": {},
   "outputs": [],
   "source": [
    "def eleven_layer_cnn_softmax_kernel5():\n",
    "  model = keras.models.Sequential([\n",
    "      resize_rescale,\n",
    "    data_enhance,\n",
    "    keras.layers.Conv2D(filters=32, kernel_size=(5,5), activation='relu', input_shape=(650,650,3)),\n",
    "    keras.layers.MaxPooling2D((2, 2)),\n",
    "    keras.layers.Conv2D(filters=64, kernel_size=(5,5), activation='relu'),\n",
    "    keras.layers.MaxPooling2D((2, 2)),\n",
    "    keras.layers.Conv2D(filters=128, kernel_size=(5,5), activation='relu'),\n",
    "    keras.layers.MaxPooling2D((2, 2)),\n",
    "    keras.layers.Conv2D(filters=256, kernel_size=(5,5), activation='relu'),\n",
    "    keras.layers.MaxPooling2D((2, 2)),\n",
    "    keras.layers.Flatten(),\n",
    "    keras.layers.Dense(128, activation='relu'),\n",
    "    keras.layers.Dense(2, activation='softmax')\n",
    "      ])\n",
    "  model.compile(optimizer='adam',\n",
    "              loss='sparse_categorical_crossentropy',\n",
    "                metrics=['accuracy'])\n",
    "  return model\n"
   ]
  },
  {
   "cell_type": "code",
   "execution_count": 14,
   "id": "86a445a9",
   "metadata": {},
   "outputs": [],
   "source": [
    "train_labels = np.concatenate([y.numpy() for _, y in train_imgs], axis=0)\n",
    "test_labels = np.concatenate([y.numpy() for _, y in test_imgs], axis=0)"
   ]
  },
  {
   "cell_type": "code",
   "execution_count": 15,
   "id": "568db52c",
   "metadata": {},
   "outputs": [
    {
     "name": "stdout",
     "output_type": "stream",
     "text": [
      "Epoch 1/5\n",
      "\u001b[1m600/600\u001b[0m \u001b[32m━━━━━━━━━━━━━━━━━━━━\u001b[0m\u001b[37m\u001b[0m \u001b[1m763s\u001b[0m 1s/step - accuracy: 0.7155 - loss: 3.6953\n",
      "Epoch 2/5\n",
      "\u001b[1m600/600\u001b[0m \u001b[32m━━━━━━━━━━━━━━━━━━━━\u001b[0m\u001b[37m\u001b[0m \u001b[1m713s\u001b[0m 1s/step - accuracy: 0.7639 - loss: 0.6968\n",
      "Epoch 3/5\n",
      "\u001b[1m600/600\u001b[0m \u001b[32m━━━━━━━━━━━━━━━━━━━━\u001b[0m\u001b[37m\u001b[0m \u001b[1m671s\u001b[0m 1s/step - accuracy: 0.7380 - loss: 0.5849\n",
      "Epoch 4/5\n",
      "\u001b[1m600/600\u001b[0m \u001b[32m━━━━━━━━━━━━━━━━━━━━\u001b[0m\u001b[37m\u001b[0m \u001b[1m655s\u001b[0m 1s/step - accuracy: 0.7721 - loss: 0.5464\n",
      "Epoch 5/5\n",
      "\u001b[1m600/600\u001b[0m \u001b[32m━━━━━━━━━━━━━━━━━━━━\u001b[0m\u001b[37m\u001b[0m \u001b[1m655s\u001b[0m 1s/step - accuracy: 0.7492 - loss: 0.5731\n",
      "\u001b[1m200/200\u001b[0m \u001b[32m━━━━━━━━━━━━━━━━━━━━\u001b[0m\u001b[37m\u001b[0m \u001b[1m95s\u001b[0m 465ms/step\n",
      "Model 1\n",
      "0.78\n",
      "0.0\n",
      "0.0\n",
      "0.0\n"
     ]
    }
   ],
   "source": [
    "model1=eleven_layer_cnn_softmax_kernel5()\n",
    "model1.fit(train_imgs,epochs=5)\n",
    "y_pred_probs = model1.predict(test_imgs.map(lambda x, y: x))\n",
    "y_pred = np.argmax(y_pred_probs, axis=1)\n",
    "accuracy = accuracy_score(test_labels, y_pred)\n",
    "f1 = f1_score(test_labels, y_pred)\n",
    "precision = precision_score(test_labels, y_pred)\n",
    "recall = recall_score(test_labels, y_pred)\n",
    "print(\"Model 1\")\n",
    "print(accuracy)\n",
    "print(f1)\n",
    "print(precision)\n",
    "print(recall)"
   ]
  },
  {
   "cell_type": "code",
   "execution_count": 16,
   "id": "c1500770",
   "metadata": {},
   "outputs": [],
   "source": [
    "def nine_layer_cnn_softmax_kernel5():\n",
    "  model = keras.models.Sequential([\n",
    "      resize_rescale,\n",
    "    data_enhance,\n",
    "    keras.layers.Conv2D(filters=64, kernel_size=(5,5), activation='relu', input_shape=(650,650,3)),\n",
    "    keras.layers.MaxPooling2D((2, 2)),\n",
    "    keras.layers.Conv2D(filters=128, kernel_size=(5,5), activation='relu'),\n",
    "    keras.layers.MaxPooling2D((2, 2)),\n",
    "    keras.layers.Conv2D(filters=256, kernel_size=(5,5), activation='relu'),\n",
    "    keras.layers.MaxPooling2D((2, 2)),\n",
    "    keras.layers.Flatten(),\n",
    "    keras.layers.Dense(128, activation='relu'),\n",
    "    keras.layers.Dense(2, activation='softmax')\n",
    "      ])\n",
    "  model.compile(optimizer='adam',\n",
    "              loss='sparse_categorical_crossentropy',\n",
    "                metrics=['accuracy'])\n",
    "  return model"
   ]
  },
  {
   "cell_type": "code",
   "execution_count": 17,
   "id": "6a0a745f",
   "metadata": {},
   "outputs": [
    {
     "name": "stdout",
     "output_type": "stream",
     "text": [
      "Epoch 1/5\n",
      "\u001b[1m600/600\u001b[0m \u001b[32m━━━━━━━━━━━━━━━━━━━━\u001b[0m\u001b[37m\u001b[0m \u001b[1m2417s\u001b[0m 4s/step - accuracy: 0.7271 - loss: 2.4080\n",
      "Epoch 2/5\n",
      "\u001b[1m600/600\u001b[0m \u001b[32m━━━━━━━━━━━━━━━━━━━━\u001b[0m\u001b[37m\u001b[0m \u001b[1m2481s\u001b[0m 4s/step - accuracy: 0.7335 - loss: 0.8252\n",
      "Epoch 3/5\n",
      "\u001b[1m600/600\u001b[0m \u001b[32m━━━━━━━━━━━━━━━━━━━━\u001b[0m\u001b[37m\u001b[0m \u001b[1m2572s\u001b[0m 4s/step - accuracy: 0.7531 - loss: 0.7906\n",
      "Epoch 4/5\n",
      "\u001b[1m600/600\u001b[0m \u001b[32m━━━━━━━━━━━━━━━━━━━━\u001b[0m\u001b[37m\u001b[0m \u001b[1m2349s\u001b[0m 4s/step - accuracy: 0.7627 - loss: 0.5615\n",
      "Epoch 5/5\n",
      "\u001b[1m600/600\u001b[0m \u001b[32m━━━━━━━━━━━━━━━━━━━━\u001b[0m\u001b[37m\u001b[0m \u001b[1m2340s\u001b[0m 4s/step - accuracy: 0.7526 - loss: 0.7047\n",
      "\u001b[1m200/200\u001b[0m \u001b[32m━━━━━━━━━━━━━━━━━━━━\u001b[0m\u001b[37m\u001b[0m \u001b[1m265s\u001b[0m 1s/step\n",
      "Model 2\n",
      "0.78\n",
      "0.0\n",
      "0.0\n",
      "0.0\n"
     ]
    }
   ],
   "source": [
    "model2=nine_layer_cnn_softmax_kernel5()\n",
    "model2.fit(train_imgs,epochs=5)\n",
    "y_pred_probs = model2.predict(test_imgs.map(lambda x, y: x))\n",
    "y_pred = np.argmax(y_pred_probs, axis=1)\n",
    "accuracy = accuracy_score(test_labels, y_pred)\n",
    "f1 = f1_score(test_labels, y_pred)\n",
    "precision = precision_score(test_labels, y_pred)\n",
    "recall = recall_score(test_labels, y_pred)\n",
    "print(\"Model 2\")\n",
    "print(accuracy)\n",
    "print(f1)\n",
    "print(precision)\n",
    "print(recall)"
   ]
  },
  {
   "cell_type": "code",
   "execution_count": 18,
   "id": "45ef672c",
   "metadata": {},
   "outputs": [],
   "source": [
    "def densenet121():\n",
    "    base_model=tf.keras.applications.DenseNet121(input_shape=(650,650,3),\n",
    "                                                include_top=False,\n",
    "                                                weights='imagenet')\n",
    "    base_model.trainable=False\n",
    "    model=tf.keras.models.Sequential([\n",
    "        base_model,\n",
    "        keras.layers.GlobalAveragePooling2D(),\n",
    "        keras.layers.Dense(512,activation=\"relu\"),\n",
    "        keras.layers.Dense(2,activation='softmax')\n",
    "    ])\n",
    "    model.compile(optimizer='adam',loss='sparse_categorical_crossentropy',metrics=['accuracy'])\n",
    "    return model"
   ]
  },
  {
   "cell_type": "code",
   "execution_count": 19,
   "id": "90165f48",
   "metadata": {},
   "outputs": [
    {
     "name": "stdout",
     "output_type": "stream",
     "text": [
      "Epoch 1/5\n",
      "\u001b[1m600/600\u001b[0m \u001b[32m━━━━━━━━━━━━━━━━━━━━\u001b[0m\u001b[37m\u001b[0m \u001b[1m863s\u001b[0m 1s/step - accuracy: 0.6752 - loss: 2.3785\n",
      "Epoch 2/5\n",
      "\u001b[1m600/600\u001b[0m \u001b[32m━━━━━━━━━━━━━━━━━━━━\u001b[0m\u001b[37m\u001b[0m \u001b[1m823s\u001b[0m 1s/step - accuracy: 0.7445 - loss: 0.5561\n",
      "Epoch 3/5\n",
      "\u001b[1m600/600\u001b[0m \u001b[32m━━━━━━━━━━━━━━━━━━━━\u001b[0m\u001b[37m\u001b[0m \u001b[1m827s\u001b[0m 1s/step - accuracy: 0.7826 - loss: 0.4939\n",
      "Epoch 4/5\n",
      "\u001b[1m600/600\u001b[0m \u001b[32m━━━━━━━━━━━━━━━━━━━━\u001b[0m\u001b[37m\u001b[0m \u001b[1m823s\u001b[0m 1s/step - accuracy: 0.7910 - loss: 0.4683\n",
      "Epoch 5/5\n",
      "\u001b[1m600/600\u001b[0m \u001b[32m━━━━━━━━━━━━━━━━━━━━\u001b[0m\u001b[37m\u001b[0m \u001b[1m821s\u001b[0m 1s/step - accuracy: 0.8069 - loss: 0.3873\n",
      "\u001b[1m200/200\u001b[0m \u001b[32m━━━━━━━━━━━━━━━━━━━━\u001b[0m\u001b[37m\u001b[0m \u001b[1m281s\u001b[0m 1s/step\n",
      "Model\n",
      "0.74\n",
      "0.2121212121212121\n",
      "0.3181818181818182\n",
      "0.1590909090909091\n"
     ]
    }
   ],
   "source": [
    "model3=densenet121()\n",
    "model3.fit(train_imgs,epochs=5)\n",
    "y_pred_probs = model3.predict(test_imgs.map(lambda x, y: x))\n",
    "y_pred = np.argmax(y_pred_probs, axis=1)\n",
    "accuracy = accuracy_score(test_labels, y_pred)\n",
    "f1 = f1_score(test_labels, y_pred)\n",
    "precision = precision_score(test_labels, y_pred)\n",
    "recall = recall_score(test_labels, y_pred)\n",
    "print(\"Model\")\n",
    "print(accuracy)\n",
    "print(f1)\n",
    "print(precision)\n",
    "print(recall)"
   ]
  },
  {
   "cell_type": "code",
   "execution_count": 20,
   "id": "87f0a7be",
   "metadata": {},
   "outputs": [],
   "source": [
    "from sklearn.ensemble import VotingClassifier"
   ]
  },
  {
   "cell_type": "code",
   "execution_count": 21,
   "id": "27e8a8da",
   "metadata": {},
   "outputs": [
    {
     "name": "stdout",
     "output_type": "stream",
     "text": [
      "\u001b[1m200/200\u001b[0m \u001b[32m━━━━━━━━━━━━━━━━━━━━\u001b[0m\u001b[37m\u001b[0m \u001b[1m97s\u001b[0m 476ms/step\n",
      "\u001b[1m200/200\u001b[0m \u001b[32m━━━━━━━━━━━━━━━━━━━━\u001b[0m\u001b[37m\u001b[0m \u001b[1m262s\u001b[0m 1s/step\n",
      "\u001b[1m200/200\u001b[0m \u001b[32m━━━━━━━━━━━━━━━━━━━━\u001b[0m\u001b[37m\u001b[0m \u001b[1m276s\u001b[0m 1s/step\n",
      "Model4\n",
      "0.78\n",
      "0.6835955056179777\n",
      "0.6084\n",
      "0.78\n"
     ]
    }
   ],
   "source": [
    "\n",
    "def soft_voting(models, X):\n",
    "    y_pred_probs = [model.predict(X) for model in models]\n",
    "    avg_pred_probs = np.mean(y_pred_probs, axis=0)\n",
    "    y_pred = np.argmax(avg_pred_probs, axis=1)\n",
    "    return y_pred, avg_pred_probs\n",
    "\n",
    "models = [model1, model2, model3]\n",
    "y_pred, y_pred_probs = soft_voting(models, test_imgs.map(lambda x, y: x))\n",
    "accuracy = accuracy_score(test_labels, y_pred)\n",
    "f1 = f1_score(test_labels, y_pred, average='weighted')\n",
    "precision = precision_score(test_labels, y_pred, average='weighted')\n",
    "recall = recall_score(test_labels, y_pred, average='weighted')\n",
    "print(\"Model4\")\n",
    "print(accuracy)\n",
    "print(f1)\n",
    "print(precision)\n",
    "print( recall)\n"
   ]
  },
  {
   "cell_type": "code",
   "execution_count": 22,
   "id": "2d1501e6",
   "metadata": {},
   "outputs": [
    {
     "data": {
      "text/plain": [
       "(array([1, 0, 1, 0, 1, 0, 1, 0, 0, 0, 0, 0, 1, 0, 0, 0, 0, 0, 0, 1, 0, 0,\n",
       "        0, 0, 0, 0, 0, 0, 1, 0, 0, 1, 0, 0, 0, 1, 0, 0, 0, 0, 0, 0, 1, 0,\n",
       "        1, 0, 0, 0, 0, 0, 0, 0, 0, 0, 0, 0, 0, 0, 1, 0, 0, 0, 0, 0, 0, 1,\n",
       "        0, 0, 0, 0, 1, 1, 0, 1, 0, 0, 0, 0, 0, 0, 0, 0, 1, 1, 0, 0, 0, 0,\n",
       "        0, 0, 0, 1, 0, 1, 0, 1, 0, 0, 0, 0, 1, 1, 0, 1, 0, 0, 0, 0, 0, 0,\n",
       "        0, 0, 0, 0, 0, 0, 1, 0, 0, 0, 0, 0, 0, 1, 1, 1, 1, 1, 0, 1, 0, 0,\n",
       "        0, 0, 0, 0, 0, 0, 0, 0, 0, 0, 0, 1, 0, 0, 0, 0, 1, 0, 0, 0, 1, 0,\n",
       "        0, 1, 0, 1, 0, 0, 0, 1, 0, 1, 0, 0, 0, 0, 0, 0, 0, 0, 0, 0, 0, 0,\n",
       "        0, 1, 0, 0, 0, 1, 0, 1, 0, 0, 1, 1, 0, 0, 0, 0, 1, 0, 0, 0, 0, 0,\n",
       "        0, 0]),\n",
       " array([[0.717634  , 0.28236595],\n",
       "        [0.7030015 , 0.29699856],\n",
       "        [0.8131327 , 0.18686728],\n",
       "        [0.7463072 , 0.25369284],\n",
       "        [0.8234649 , 0.17653513],\n",
       "        [0.78892916, 0.21107084],\n",
       "        [0.7613469 , 0.23865312],\n",
       "        [0.8534322 , 0.14656788],\n",
       "        [0.8608031 , 0.1391968 ],\n",
       "        [0.67404485, 0.32595512],\n",
       "        [0.7533886 , 0.24661142],\n",
       "        [0.7699067 , 0.23009329],\n",
       "        [0.83732206, 0.16267799],\n",
       "        [0.86141866, 0.1385814 ],\n",
       "        [0.7644477 , 0.23555231],\n",
       "        [0.7994151 , 0.20058496],\n",
       "        [0.83486134, 0.16513868],\n",
       "        [0.78672975, 0.2132703 ],\n",
       "        [0.8499566 , 0.15004341],\n",
       "        [0.8420895 , 0.15791051],\n",
       "        [0.67740196, 0.32259807],\n",
       "        [0.80255514, 0.19744484],\n",
       "        [0.7686985 , 0.2313015 ],\n",
       "        [0.7130294 , 0.28697053],\n",
       "        [0.8314782 , 0.16852182],\n",
       "        [0.8703887 , 0.12961131],\n",
       "        [0.8251346 , 0.17486538],\n",
       "        [0.8509903 , 0.14900972],\n",
       "        [0.7800266 , 0.21997337],\n",
       "        [0.8128576 , 0.18714242],\n",
       "        [0.8579053 , 0.1420947 ],\n",
       "        [0.8364257 , 0.16357432],\n",
       "        [0.66919065, 0.33080935],\n",
       "        [0.83689207, 0.16310798],\n",
       "        [0.8311443 , 0.16885573],\n",
       "        [0.8492129 , 0.15078713],\n",
       "        [0.66710347, 0.3328966 ],\n",
       "        [0.84846014, 0.1515399 ],\n",
       "        [0.759479  , 0.24052103],\n",
       "        [0.854297  , 0.14570297],\n",
       "        [0.83248466, 0.16751535],\n",
       "        [0.79782504, 0.20217502],\n",
       "        [0.6726637 , 0.32733628],\n",
       "        [0.76481825, 0.23518173],\n",
       "        [0.8003998 , 0.19960018],\n",
       "        [0.84730935, 0.1526907 ],\n",
       "        [0.80468494, 0.19531505],\n",
       "        [0.80838054, 0.19161947],\n",
       "        [0.8615747 , 0.13842528],\n",
       "        [0.83229446, 0.16770561],\n",
       "        [0.85872775, 0.14127226],\n",
       "        [0.67170626, 0.3282937 ],\n",
       "        [0.7968909 , 0.20310903],\n",
       "        [0.844752  , 0.15524803],\n",
       "        [0.7694425 , 0.23055752],\n",
       "        [0.76864177, 0.23135819],\n",
       "        [0.8501816 , 0.14981842],\n",
       "        [0.77055424, 0.22944571],\n",
       "        [0.7668058 , 0.23319416],\n",
       "        [0.83400315, 0.16599686],\n",
       "        [0.8436959 , 0.15630408],\n",
       "        [0.7393694 , 0.26063064],\n",
       "        [0.8267879 , 0.17321213],\n",
       "        [0.80413765, 0.19586237],\n",
       "        [0.83033055, 0.16966951],\n",
       "        [0.66665834, 0.3333416 ],\n",
       "        [0.81814   , 0.18186003],\n",
       "        [0.798439  , 0.20156096],\n",
       "        [0.8699717 , 0.13002832],\n",
       "        [0.79908466, 0.20091529],\n",
       "        [0.7661829 , 0.23381706],\n",
       "        [0.8515547 , 0.14844528],\n",
       "        [0.8566981 , 0.14330196],\n",
       "        [0.80457735, 0.19542263],\n",
       "        [0.8510044 , 0.1489955 ],\n",
       "        [0.7551909 , 0.24480903],\n",
       "        [0.73810786, 0.2618921 ],\n",
       "        [0.8213765 , 0.17862351],\n",
       "        [0.7536988 , 0.24630119],\n",
       "        [0.87195045, 0.12804957],\n",
       "        [0.79091763, 0.20908232],\n",
       "        [0.83236927, 0.16763073],\n",
       "        [0.7163953 , 0.2836047 ],\n",
       "        [0.76541823, 0.23458181],\n",
       "        [0.85772294, 0.14227702],\n",
       "        [0.71448535, 0.28551468],\n",
       "        [0.81553715, 0.18446295],\n",
       "        [0.77869797, 0.22130202],\n",
       "        [0.823795  , 0.176205  ],\n",
       "        [0.8038102 , 0.19618982],\n",
       "        [0.7307164 , 0.26928353],\n",
       "        [0.6820938 , 0.31790623],\n",
       "        [0.81906146, 0.18093854],\n",
       "        [0.7146713 , 0.28532875],\n",
       "        [0.6666215 , 0.33337843],\n",
       "        [0.8644912 , 0.13550873],\n",
       "        [0.8627861 , 0.13721389],\n",
       "        [0.86322784, 0.13677216],\n",
       "        [0.8170369 , 0.18296309],\n",
       "        [0.7999337 , 0.20006628],\n",
       "        [0.85056907, 0.14943087],\n",
       "        [0.79283786, 0.20716214],\n",
       "        [0.74275786, 0.2572421 ],\n",
       "        [0.81345254, 0.18654744],\n",
       "        [0.82285684, 0.17714322],\n",
       "        [0.79109806, 0.208902  ],\n",
       "        [0.6957721 , 0.30422795],\n",
       "        [0.866425  , 0.13357504],\n",
       "        [0.7783904 , 0.22160955],\n",
       "        [0.86551285, 0.13448715],\n",
       "        [0.82976943, 0.17023051],\n",
       "        [0.7662036 , 0.23379648],\n",
       "        [0.7503631 , 0.24963693],\n",
       "        [0.87380934, 0.1261907 ],\n",
       "        [0.68568826, 0.31431174],\n",
       "        [0.69723445, 0.30276552],\n",
       "        [0.6904306 , 0.30956945],\n",
       "        [0.827463  , 0.17253703],\n",
       "        [0.84494346, 0.15505661],\n",
       "        [0.84383583, 0.15616417],\n",
       "        [0.7735222 , 0.22647782],\n",
       "        [0.8603337 , 0.13966632],\n",
       "        [0.83462757, 0.16537245],\n",
       "        [0.8014464 , 0.19855364],\n",
       "        [0.7130668 , 0.28693318],\n",
       "        [0.754698  , 0.245302  ],\n",
       "        [0.8436524 , 0.15634768],\n",
       "        [0.80951387, 0.19048612],\n",
       "        [0.8127373 , 0.18726265],\n",
       "        [0.81187934, 0.18812072],\n",
       "        [0.6815321 , 0.31846794],\n",
       "        [0.74233437, 0.25766566],\n",
       "        [0.82325107, 0.17674892],\n",
       "        [0.8018071 , 0.19819297],\n",
       "        [0.8175855 , 0.18241446],\n",
       "        [0.77422136, 0.2257787 ],\n",
       "        [0.8524127 , 0.14758733],\n",
       "        [0.84651953, 0.15348046],\n",
       "        [0.7880662 , 0.21193385],\n",
       "        [0.77000266, 0.2299974 ],\n",
       "        [0.862951  , 0.13704903],\n",
       "        [0.69864416, 0.3013559 ],\n",
       "        [0.86234266, 0.13765733],\n",
       "        [0.83512455, 0.16487539],\n",
       "        [0.80696267, 0.19303735],\n",
       "        [0.81733626, 0.18266384],\n",
       "        [0.80323035, 0.19676964],\n",
       "        [0.8248052 , 0.17519484],\n",
       "        [0.73179674, 0.26820332],\n",
       "        [0.7084303 , 0.29156974],\n",
       "        [0.8100676 , 0.18993242],\n",
       "        [0.8314538 , 0.16854621],\n",
       "        [0.8521252 , 0.14787476],\n",
       "        [0.8111596 , 0.18884043],\n",
       "        [0.8102568 , 0.18974315],\n",
       "        [0.8509669 , 0.14903317],\n",
       "        [0.77473706, 0.22526298],\n",
       "        [0.7787191 , 0.22128089],\n",
       "        [0.7246523 , 0.27534777],\n",
       "        [0.8632288 , 0.13677116],\n",
       "        [0.84617525, 0.15382473],\n",
       "        [0.8589421 , 0.14105791],\n",
       "        [0.8165477 , 0.18345226],\n",
       "        [0.7296736 , 0.27032635],\n",
       "        [0.65992033, 0.34007964],\n",
       "        [0.85845727, 0.14154278],\n",
       "        [0.7106068 , 0.2893932 ],\n",
       "        [0.7164429 , 0.2835571 ],\n",
       "        [0.7987817 , 0.20121825],\n",
       "        [0.82392263, 0.17607744],\n",
       "        [0.8296843 , 0.17031564],\n",
       "        [0.7995567 , 0.20044333],\n",
       "        [0.72034293, 0.27965704],\n",
       "        [0.79693955, 0.20306055],\n",
       "        [0.8087085 , 0.19129153],\n",
       "        [0.79195267, 0.20804729],\n",
       "        [0.76929903, 0.23070092],\n",
       "        [0.7725151 , 0.22748482],\n",
       "        [0.75523645, 0.24476354],\n",
       "        [0.7460093 , 0.25399074],\n",
       "        [0.74948543, 0.2505146 ],\n",
       "        [0.6716903 , 0.3283097 ],\n",
       "        [0.8344476 , 0.16555238],\n",
       "        [0.72777694, 0.2722231 ],\n",
       "        [0.727294  , 0.27270594],\n",
       "        [0.77394   , 0.22605999],\n",
       "        [0.8707638 , 0.12923622],\n",
       "        [0.6730148 , 0.3269852 ],\n",
       "        [0.763513  , 0.23648702],\n",
       "        [0.7392433 , 0.26075664],\n",
       "        [0.80274767, 0.19725233],\n",
       "        [0.68041104, 0.31958893],\n",
       "        [0.6615235 , 0.33847645],\n",
       "        [0.8209305 , 0.1790695 ],\n",
       "        [0.8475184 , 0.15248163],\n",
       "        [0.77066165, 0.22933835],\n",
       "        [0.75760776, 0.24239226],\n",
       "        [0.8320508 , 0.16794915],\n",
       "        [0.84613115, 0.15386882],\n",
       "        [0.8291738 , 0.17082615]], dtype=float32))"
      ]
     },
     "execution_count": 22,
     "metadata": {},
     "output_type": "execute_result"
    }
   ],
   "source": [
    "test_labels,y_pred_probs"
   ]
  },
  {
   "cell_type": "code",
   "execution_count": 77,
   "id": "56e5d04f",
   "metadata": {},
   "outputs": [],
   "source": [
    "\n",
    "def soft_voting(models, X):\n",
    "    y_pred_probs = [model.predict(X) for model in models]\n",
    "    avg_pred_probs = np.mean(y_pred_probs, axis=0)    \n",
    "    print(avg_pred_probs)\n",
    "    y_pred = []\n",
    "    for prob in avg_pred_probs:\n",
    "        if(prob[1]>=0.29):\n",
    "            y_pred.append(1)\n",
    "        else:\n",
    "            y_pred.append(0)\n",
    "    return np.array(y_pred), avg_pred_probs"
   ]
  },
  {
   "cell_type": "code",
   "execution_count": 78,
   "id": "cf51efe0",
   "metadata": {},
   "outputs": [],
   "source": [
    "def image_preprocess(image_path):\n",
    "  img=Image.open(image_path).convert('RGB')\n",
    "  img=img.resize((650,650))\n",
    "  img=np.array(img)\n",
    "  img=img/255.0\n",
    "  return img\n",
    "def prediction(image_path,location):\n",
    "  img=image_preprocess(image_path)\n",
    "  img=np.expand_dims(img,axis=0)\n",
    "  models = [model1, model2, model3]\n",
    "  y_pred, y_pred_probs = soft_voting(models, img)\n",
    "  pred_class=y_pred[0]\n",
    "  print(f\"Final prediction: {y_pred}\")\n",
    "  print(f\"Predicted probabilities: {y_pred_probs}\") \n",
    "#   pred_class=np.argmax(pred[0])\n",
    "  pred_msg=\"\"\n",
    "  maps=\"\"\n",
    "  if pred_class==1:\n",
    "   pred_msg=\"Brain Stroke Detected\"\n",
    "   maps_url=f\"https://www.google.com/maps/search/hospitals+near+{location}\"\n",
    "   maps=f\"Find nearby hospitals: [Google Maps]({maps_url})\"   \n",
    "  else:\n",
    "   pred_msg= \"No brain stroke detected\"\n",
    "   maps=\"Visiting a Hospital is not required\"\n",
    "    \n",
    "  return pred_msg,maps\n",
    "  "
   ]
  },
  {
   "cell_type": "code",
   "execution_count": 88,
   "id": "fefd4b0e",
   "metadata": {},
   "outputs": [
    {
     "name": "stdout",
     "output_type": "stream",
     "text": [
      "\u001b[1m1/1\u001b[0m \u001b[32m━━━━━━━━━━━━━━━━━━━━\u001b[0m\u001b[37m\u001b[0m \u001b[1m0s\u001b[0m 338ms/step\n",
      "\u001b[1m1/1\u001b[0m \u001b[32m━━━━━━━━━━━━━━━━━━━━\u001b[0m\u001b[37m\u001b[0m \u001b[1m1s\u001b[0m 1s/step\n",
      "\u001b[1m1/1\u001b[0m \u001b[32m━━━━━━━━━━━━━━━━━━━━\u001b[0m\u001b[37m\u001b[0m \u001b[1m1s\u001b[0m 1s/step\n",
      "[[0.73448426 0.26551569]]\n",
      "Final prediction: [0]\n",
      "Predicted probabilities: [[0.73448426 0.26551569]]\n",
      "('No brain stroke detected', 'Visiting a Hospital is not required')\n"
     ]
    }
   ],
   "source": [
    "img1=\"58 (9).jpg\"\n",
    "print(prediction(img1,\"ashok nagar\"))"
   ]
  },
  {
   "cell_type": "code",
   "execution_count": 81,
   "id": "30ef39e2",
   "metadata": {},
   "outputs": [],
   "source": [
    "!pip install -q gradio\n",
    "import gradio as gr"
   ]
  },
  {
   "cell_type": "code",
   "execution_count": 82,
   "id": "8cc9a2d3",
   "metadata": {},
   "outputs": [
    {
     "name": "stdout",
     "output_type": "stream",
     "text": [
      "Running on local URL:  http://127.0.0.1:7862\n",
      "Running on public URL: https://03ae38e28d7311bb65.gradio.live\n",
      "\n",
      "This share link expires in 72 hours. For free permanent hosting and GPU upgrades, run `gradio deploy` from Terminal to deploy to Spaces (https://huggingface.co/spaces)\n"
     ]
    },
    {
     "data": {
      "text/html": [
       "<div><iframe src=\"https://03ae38e28d7311bb65.gradio.live\" width=\"100%\" height=\"500\" allow=\"autoplay; camera; microphone; clipboard-read; clipboard-write;\" frameborder=\"0\" allowfullscreen></iframe></div>"
      ],
      "text/plain": [
       "<IPython.core.display.HTML object>"
      ]
     },
     "metadata": {},
     "output_type": "display_data"
    },
    {
     "data": {
      "text/plain": []
     },
     "execution_count": 82,
     "metadata": {},
     "output_type": "execute_result"
    },
    {
     "name": "stdout",
     "output_type": "stream",
     "text": [
      "\u001b[1m1/1\u001b[0m \u001b[32m━━━━━━━━━━━━━━━━━━━━\u001b[0m\u001b[37m\u001b[0m \u001b[1m0s\u001b[0m 366ms/step\n",
      "\u001b[1m1/1\u001b[0m \u001b[32m━━━━━━━━━━━━━━━━━━━━\u001b[0m\u001b[37m\u001b[0m \u001b[1m1s\u001b[0m 1s/step\n",
      "\u001b[1m1/1\u001b[0m \u001b[32m━━━━━━━━━━━━━━━━━━━━\u001b[0m\u001b[37m\u001b[0m \u001b[1m1s\u001b[0m 1s/step\n",
      "[[0.70628434 0.2937156 ]]\n",
      "Final prediction: [1]\n",
      "Predicted probabilities: [[0.70628434 0.2937156 ]]\n",
      "\u001b[1m1/1\u001b[0m \u001b[32m━━━━━━━━━━━━━━━━━━━━\u001b[0m\u001b[37m\u001b[0m \u001b[1m0s\u001b[0m 416ms/step\n",
      "\u001b[1m1/1\u001b[0m \u001b[32m━━━━━━━━━━━━━━━━━━━━\u001b[0m\u001b[37m\u001b[0m \u001b[1m1s\u001b[0m 1s/step\n",
      "\u001b[1m1/1\u001b[0m \u001b[32m━━━━━━━━━━━━━━━━━━━━\u001b[0m\u001b[37m\u001b[0m \u001b[1m2s\u001b[0m 2s/step\n",
      "[[0.70628434 0.2937156 ]]\n",
      "Final prediction: [1]\n",
      "Predicted probabilities: [[0.70628434 0.2937156 ]]\n",
      "\u001b[1m1/1\u001b[0m \u001b[32m━━━━━━━━━━━━━━━━━━━━\u001b[0m\u001b[37m\u001b[0m \u001b[1m1s\u001b[0m 698ms/step\n",
      "\u001b[1m1/1\u001b[0m \u001b[32m━━━━━━━━━━━━━━━━━━━━\u001b[0m\u001b[37m\u001b[0m \u001b[1m2s\u001b[0m 2s/step\n",
      "\u001b[1m1/1\u001b[0m \u001b[32m━━━━━━━━━━━━━━━━━━━━\u001b[0m\u001b[37m\u001b[0m \u001b[1m2s\u001b[0m 2s/step\n",
      "[[0.70628434 0.2937156 ]]\n",
      "Final prediction: [1]\n",
      "Predicted probabilities: [[0.70628434 0.2937156 ]]\n"
     ]
    }
   ],
   "source": [
    "interface = gr.Interface(\n",
    "    fn=prediction,\n",
    "    inputs=[\n",
    "gr.Image(type=\"filepath\"),\n",
    "gr.Textbox(label=\"Location\")],\n",
    "    outputs=[gr.Textbox(label=\"Prediction By Model\"),\n",
    "            gr.Markdown(label=\"Maps\")],\n",
    "    title=\"Brain Stroke Prediction with  MRI Scans using Ensemble Machine Learning\"\n",
    ")\n",
    "interface.launch(share=True)\n",
    "\n"
   ]
  },
  {
   "cell_type": "code",
   "execution_count": null,
   "id": "6fa25b46",
   "metadata": {},
   "outputs": [],
   "source": []
  }
 ],
 "metadata": {
  "kernelspec": {
   "display_name": "Python 3 (ipykernel)",
   "language": "python",
   "name": "python3"
  },
  "language_info": {
   "codemirror_mode": {
    "name": "ipython",
    "version": 3
   },
   "file_extension": ".py",
   "mimetype": "text/x-python",
   "name": "python",
   "nbconvert_exporter": "python",
   "pygments_lexer": "ipython3",
   "version": "3.11.7"
  }
 },
 "nbformat": 4,
 "nbformat_minor": 5
}
